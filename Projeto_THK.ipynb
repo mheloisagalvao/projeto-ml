{
  "nbformat": 4,
  "nbformat_minor": 0,
  "metadata": {
    "colab": {
      "provenance": [],
      "include_colab_link": true
    },
    "kernelspec": {
      "name": "python3",
      "display_name": "Python 3"
    },
    "language_info": {
      "name": "python"
    }
  },
  "cells": [
    {
      "cell_type": "markdown",
      "metadata": {
        "id": "view-in-github",
        "colab_type": "text"
      },
      "source": [
        "<a href=\"https://colab.research.google.com/github/mheloisagalvao/projeto-ml/blob/main/Projeto_THK.ipynb\" target=\"_parent\"><img src=\"https://colab.research.google.com/assets/colab-badge.svg\" alt=\"Open In Colab\"/></a>"
      ]
    },
    {
      "cell_type": "code",
      "source": [
        "#@title Identificação do Grupo\n",
        "\n",
        "#@markdown Integrantes do Grupo\n",
        "Aluno1 = 'Karem Letícia dos Santos' #@param {type:\"string\"}\n",
        "Aluno2 = 'Gabriel da Silva Trindade' #@param {type:\"string\"}\n",
        "Aluno3 = 'Maria Heloísa Galvão Correia' #@param {type:\"string\"}"
      ],
      "metadata": {
        "id": "vddoiu4_DpWh"
      },
      "execution_count": null,
      "outputs": []
    },
    {
      "cell_type": "markdown",
      "source": [
        "# **Apresentação**"
      ],
      "metadata": {
        "id": "RpnjGm7sDz0l"
      }
    },
    {
      "cell_type": "markdown",
      "source": [
        "# Problema"
      ],
      "metadata": {
        "id": "LBgNT670EARO"
      }
    },
    {
      "cell_type": "markdown",
      "source": [
        "As empresas de telecomunicações enfrentam o desafio crítico do churn, a taxa de cancelamento de clientes do serviço, que resulta em perda de receita e altos custos de aquisição de novos consumidores. A satisfação do cliente e a faixa de renda influenciam significativamente o comportamento de churn, mas a falta de entendimento desses fatores impede a implementação de estratégias eficazes de retenção.\n",
        "\n",
        "Este projeto utiliza uma base de dados da ANATEL, complementada com análises de satisfação do cliente e faixa de renda, aplicando algoritmos de aprendizado de máquina para prever o churn. O objetivo é identificar clientes propensos a cancelar o serviço e entender as razões para isso, permitindo intervenções personalizadas para melhorar a satisfação e reduzir o churn. Essa abordagem visa uma gestão mais eficaz dos relacionamentos com os clientes e maior estabilidade financeira para as empresas.\n"
      ],
      "metadata": {
        "id": "p2F-Fa1wD3YZ"
      }
    },
    {
      "cell_type": "markdown",
      "source": [
        "# Referencial Teórico"
      ],
      "metadata": {
        "id": "dHyR7NFZEfl_"
      }
    },
    {
      "cell_type": "markdown",
      "source": [
        "#### Marketing de Relacionamento\n",
        "\n",
        "McKenna (1991) introduziu o conceito de Marketing de Relacionamento, que ele denominou como \"Novo Marketing\". Este conceito é centrado nas experiências dos consumidores, onde eles estabelecem uma hierarquia de valores, desejos e necessidades baseando-se em dados empíricos, opiniões e referências adquiridas através de boca a boca e experiências anteriores. McKenna destaca a **importância de ouvir e dialogar com o cliente para construir relações e adaptar produtos às necessidades deles**. Este conceito emergiu da evolução natural das práticas empresariais e da alta competitividade do mercado. Atualmente, é considerado uma atividade crucial no marketing, com ênfase na retenção de clientes, em vez de apenas na aquisição de novos.\n",
        "\n",
        "#### Retenção de Clientes\n",
        "\n",
        "A retenção de clientes é vital para o sucesso no mercado contemporâneo, conforme observado por Vavra e Pruden (1995) e Rust e Zahorik (1993). Ela não só garante a participação de mercado, mas vai além da simples satisfação do cliente, necessitando de uma abordagem mais profunda sobre o que gera lucro para a organização. Vavra e Pruden (1995) enfatizam a importância dos **lucros para criar valor e fomentar a lealdade dos clientes**, conforme também discutido por Reichheld (1993) e Reichheld, Markey Jr. e Hopton (2000).\n",
        "\n",
        "Embora a lealdade e a retenção de clientes sejam vistas como garantias de sucesso a longo prazo, não há consenso sobre como desenvolver esses processos e entender o comportamento dos clientes (McAlexander, Schouten, & Koenig, 2002). Dowling e Uncles (1997) apontam que, apesar dos benefícios da retenção e lealdade dos clientes, podem surgir problemas, sugerindo que nem todos os clientes devem ser alvos de esforços concentrados para retenção e fidelização (Ganesh, Arnold, & Reynolds, 2000).\n",
        "\n",
        "Hennig-Thurau e Klee (1997) propuseram o modelo conceitual de Qualidade do Relacionamento, que enfatiza a satisfação do cliente, qualidade percebida, confiança e comprometimento como determinantes da retenção de clientes. Verhoef (2003) destaca que uma alta taxa de retenção permite que a empresa mantenha relacionamentos sólidos com seus clientes ao longo do tempo.\n",
        "\n",
        "Pfeifer (2005) sublinha a importância de investir em esforços de retenção de clientes, apesar da falta de consenso sobre os custos de atrair e manter clientes. Modelos preditivos, como descrito por Kuhn e Johnson (2013), podem identificar quais clientes estão propensos a abandonar a empresa, ajudando a antecipar e mitigar o churn.\n",
        "\n",
        "#### Churn\n",
        "\n",
        "A análise de churn em empresas de telecomunicações é crucial devido à perda de clientes, seja por motivos ativos, rotacionais ou passivos. Métodos de aprendizado de máquina são essenciais para prever e entender o churn, permitindo a criação de estratégias eficazes de retenção. O churn reflete a intensa competição no mercado, forçando as empresas a **buscar novas maneiras de manter seus clientes satisfeitos e atrair os da concorrência**. No setor de telecomunicações, o termo é amplamente utilizado e uma taxa de churn anual de 3% a 5% pode representar uma perda significativa de clientes ativos. Compreender as razões por trás do churn é fundamental, pois envolve diversos fatores. Um mecanismo de aviso antecipado é essencial para evitar a perda de clientes, uma vez que a retenção se torna muito mais difícil após a decisão de saída. O impacto financeiro do churn é substancial devido à intensa competição e aos custos associados à aquisição de novos clientes."
      ],
      "metadata": {
        "id": "J0lrV7icEEhh"
      }
    },
    {
      "cell_type": "markdown",
      "source": [
        "# Metodologia"
      ],
      "metadata": {
        "id": "0RK7JRCGEG6e"
      }
    },
    {
      "cell_type": "markdown",
      "source": [
        "Neste projeto, a partir de dados públicos da ANATEL, criamos uma base que consegue prever o churn em empresas de telecomunicação, seguindo as etapas abaixo:\n",
        "\n",
        "1. **Coleta de Dados**: Importamos dados de duas fontes CSV utilizando `pandas`.\n",
        "   \n",
        "2. **Tratamento de Dados**: Preenchemos valores nulos em colunas específicas e removemos colunas irrelevantes com muitos valores faltantes.\n",
        "\n",
        "3. **Pré-Processamento**: Codificamos variáveis categóricas, como operadoras e estados, usando `LabelEncoder`.\n",
        "\n",
        "4. **Análise Exploratória de Dados (EDA)**: Criamos visualizações com `matplotlib` e `seaborn` para entender a distribuição dos dados e identificar padrões relevantes.\n",
        "\n",
        "5. **Criação da Variável de Interesse (Churn)**: Presumimos a criação da variável `Churn` para classificar clientes insatisfeitos com base em critérios específicos, como a satifação dos cliente e faixa de renda.\n",
        "\n",
        "6. **Construção dos Modelos de Previsão**:\n",
        "   - Dividimos os dados em conjuntos de treino e teste.\n",
        "   - Treinamos modelos de Regressão Logística e Random Forest para prever o churn.\n",
        "\n",
        "7. **Modelagem Avançada**:\n",
        "   - Previsão de Satisfação do Cliente: Utilizamos Regressão Linear para prever a satisfação geral dos clientes.\n",
        "   - Previsão da Faixa de Renda: Utilizamos Decision Tree para prever a faixa de renda com base em critérios específicos.\n",
        "\n",
        "Estas etapas permitiram a criação de modelos preditivos robustos para analisar o churn e desenvolver estratégias eficazes de retenção de clientes em empresas de telecomunicações."
      ],
      "metadata": {
        "id": "1UHDXB-hEJS-"
      }
    },
    {
      "cell_type": "markdown",
      "source": [
        "# Resultados"
      ],
      "metadata": {
        "id": "CHqspSM8ENAG"
      }
    },
    {
      "cell_type": "markdown",
      "source": [
        "Com base nos resultados no projeto, ficou evidente que a satisfação do cliente é um fator fundamental na previsão de churn. Observou-se que clientes mais satisfeitos têm menor probabilidade de cancelar seus serviços. Além disso, aspectos como cobrança de valores, facilidade de atendimento e qualidade dos serviços também influenciam significativamente na decisão de churn. Essas descobertas destacam a importância de priorizar a satisfação do cliente e implementar estratégias eficazes de retenção, visando melhorar a qualidade dos serviços oferecidos e fortalecer o relacionamento com os clientes. Vamos observar como isso foi feito:"
      ],
      "metadata": {
        "id": "6zGuLaFOElqx"
      }
    },
    {
      "cell_type": "markdown",
      "source": [
        "# **Implementação**"
      ],
      "metadata": {
        "id": "brz-Ia80EptG"
      }
    },
    {
      "cell_type": "markdown",
      "source": [
        "# Base de Dados"
      ],
      "metadata": {
        "id": "TvKUoUMOE061"
      }
    },
    {
      "cell_type": "markdown",
      "source": [
        "Os dados utilizados neste projeto foram coletados a partir de duas fontes:\n",
        "\n",
        "1. **Base de Dados ANATEL**: Adaptamos uma base de dados pública disponibilizada pela Agência Nacional de Telecomunicações (ANATEL), contendo informações sobre pesquisas de satisfação e qualidade percebida em empresas de telecomunicações. Ela oferece uma visão abrangente das interações dos clientes com os serviços de telecomunicações, incluindo detalhes sobre a satisfação do cliente, qualidade dos serviços, reclamações e muito mais.\n",
        "\n",
        "2. **Base de Dados de Churn**: A partir de dados fornecidos pela base da ANATEL, fomos capazes de construir uma base de dados que contém informações específicas sobre o churn, ou seja, clientes que saíram do contrato com as empresas de telecomunicações. Ela é essencial para treinar modelos de machine learning e prever quais clientes estão mais propensos a deixar os serviços oferecidos pelas empresas.\n",
        "\n",
        "Ao combinar essas fontes de dados, pudemos desenvolver modelos preditivos capazes de identificar padrões de comportamento dos clientes e antecipar o churn e a satisfação dos clientes fornecendo insights valiosos para estratégias de retenção de clientes."
      ],
      "metadata": {
        "id": "qy26pPUFE2mA"
      }
    },
    {
      "cell_type": "markdown",
      "source": [
        "Importação das bibliotecas e carregamento dos dados"
      ],
      "metadata": {
        "id": "vNRlJW87SqyU"
      }
    },
    {
      "cell_type": "code",
      "execution_count": null,
      "metadata": {
        "id": "_CP0RWWA1LEH"
      },
      "outputs": [],
      "source": [
        "import pandas as pd\n",
        "import matplotlib.pyplot as plt\n",
        "import seaborn as sns\n",
        "import numpy as np"
      ]
    },
    {
      "cell_type": "code",
      "source": [
        "url = \"https://raw.githubusercontent.com/mheloisagalvao/projeto-ml/main/BD_SCM.CSV\"\n",
        "df = pd.read_csv(url, encoding='latin-1', delimiter=';')"
      ],
      "metadata": {
        "id": "GZMrBVYIOpZy"
      },
      "execution_count": null,
      "outputs": []
    },
    {
      "cell_type": "code",
      "source": [
        "url = \"https://raw.githubusercontent.com/mheloisagalvao/projeto-ml/main/databaseChurnGold.csv\"\n",
        "df2 = pd.read_csv(url, encoding='latin-1', delimiter=';')"
      ],
      "metadata": {
        "id": "Fb37pG8OiBNK"
      },
      "execution_count": null,
      "outputs": []
    },
    {
      "cell_type": "code",
      "source": [
        "print(df)"
      ],
      "metadata": {
        "colab": {
          "base_uri": "https://localhost:8080/"
        },
        "id": "OnHvDxIu18K_",
        "outputId": "2a56ef51-50c6-4fe5-f0c5-84413b0780cc"
      },
      "execution_count": null,
      "outputs": [
        {
          "output_type": "stream",
          "name": "stdout",
          "text": [
            "       IDTNS         TIPO  OPERADORA ESTADO       DATA  ANO_BASE  Q1  Q2  \\\n",
            "0      61433  BANDA-LARGA  CLARO/NET     ES  16/jul/20      2020   1 NaN   \n",
            "1     234054  BANDA-LARGA  CLARO/NET     SP  16/jul/20      2020   1 NaN   \n",
            "2     235004  BANDA-LARGA  CLARO/NET     SP  16/jul/20      2020   1 NaN   \n",
            "3     429370  BANDA-LARGA         OI     DF  16/jul/20      2020   1 NaN   \n",
            "4     579712  BANDA-LARGA         OI     RN  16/jul/20      2020   1 NaN   \n",
            "...      ...          ...        ...    ...        ...       ...  ..  ..   \n",
            "1094  855226  BANDA-LARGA       VIVO     DF  06/ago/20      2020   1 NaN   \n",
            "1095  855472  BANDA-LARGA       VIVO     DF  06/ago/20      2020   1 NaN   \n",
            "1096  855509  BANDA-LARGA       VIVO     DF  06/ago/20      2020   1 NaN   \n",
            "1097  855666  BANDA-LARGA       VIVO     DF  06/ago/20      2020   1 NaN   \n",
            "1098  876249  BANDA-LARGA       VIVO     GO  06/ago/20      2020   1 NaN   \n",
            "\n",
            "      Q2_1  Q2_2  ...  G2_3                     H0  COD_IBGE  H1      H2  H2a  \\\n",
            "0        2     2  ...     2             VILA VELHA   3205200  99  999997   99   \n",
            "1        2     2  ...     1              SÃO PAULO   3550308   2    3000    2   \n",
            "2        2     2  ...     1  SÃO BERNARDO DO CAMPO   3548708   2   10000    4   \n",
            "3        2     2  ...     1               BRASÍLIA   5300108   1    1300    1   \n",
            "4        2     2  ...     1                  NATAL   2408102   1    1040    1   \n",
            "...    ...   ...  ...   ...                    ...       ...  ..     ...  ...   \n",
            "1094     2     2  ...     1               BRASÍLIA   5300108   1  999997   99   \n",
            "1095     2     2  ...     1               BRASÍLIA   5300108   1    2000    1   \n",
            "1096     2     2  ...     1               BRASÍLIA   5300108   2  999999   99   \n",
            "1097     2     2  ...     1               BRASÍLIA   5300108   1    5000    3   \n",
            "1098     2     2  ...     1               LUZIÂNIA   5212501   3    3000    2   \n",
            "\n",
            "      H3  I1  I2         PESO  \n",
            "0      7   3 NaN  0,630163929  \n",
            "1      7   1 NaN  19,63292645  \n",
            "2      7   1 NaN  19,63292645  \n",
            "3      2   1 NaN  0,437668628  \n",
            "4      2   3 NaN  0,093547923  \n",
            "...   ..  ..  ..          ...  \n",
            "1094   7   1 NaN  0,860180898  \n",
            "1095   4   1 NaN  0,860180898  \n",
            "1096   7   1 NaN  0,860180898  \n",
            "1097   7   1 NaN  0,860180898  \n",
            "1098   7   2 NaN  0,791468434  \n",
            "\n",
            "[1099 rows x 63 columns]\n"
          ]
        }
      ]
    },
    {
      "cell_type": "code",
      "source": [
        "print(df.columns)"
      ],
      "metadata": {
        "colab": {
          "base_uri": "https://localhost:8080/"
        },
        "id": "_BAdF4pmYBKi",
        "outputId": "50f69c76-f377-4147-8078-882ec256a7be"
      },
      "execution_count": null,
      "outputs": [
        {
          "output_type": "stream",
          "name": "stdout",
          "text": [
            "Index(['IDTNS', 'TIPO', 'OPERADORA', 'ESTADO', 'DATA', 'ANO_BASE', 'Q1', 'Q2',\n",
            "       'Q2_1', 'Q2_2', 'Q3', 'Q4', 'Q5', 'Q6', 'Q7', 'Q7a', 'Q8', 'J1', 'B1_1',\n",
            "       'B1_2', 'C1_1', 'C1_2', 'C1_3', 'D1_1', 'D1_2', 'A1_1', 'A1_2', 'A1_3',\n",
            "       'A1_4', 'A2_1', 'A2_2', 'A2_3', 'A3', 'A4', 'E1', 'E2', 'E3', 'E4',\n",
            "       'E5', 'E6', 'E7', 'E8', 'F1', 'F2_1', 'F2_2', 'F2_3', 'F3', 'F4_1',\n",
            "       'F4_2', 'F4_3', 'G1', 'G2_1', 'G2_2', 'G2_3', 'H0', 'COD_IBGE', 'H1',\n",
            "       'H2', 'H2a', 'H3', 'I1', 'I2', 'PESO'],\n",
            "      dtype='object')\n"
          ]
        }
      ]
    },
    {
      "cell_type": "markdown",
      "source": [
        "Pré-processamento de dados"
      ],
      "metadata": {
        "id": "kYpEbq9mSkcm"
      }
    },
    {
      "cell_type": "code",
      "source": [
        "df['E8'] = df['E8'].fillna('99')\n",
        "df['F4_1'] = df['F4_1'].fillna('99')\n",
        "df['F4_2'] = df['F4_2'].fillna('99')\n",
        "df['F4_3'] = df['F4_3'].fillna('99')\n",
        "df['A1_1'] = df['A1_1'].fillna('99')\n",
        "df['A2_1'] = df['A2_1'].fillna('99')\n",
        "df['A2_2'] = df['A2_2'].fillna('99')\n",
        "df['A2_3'] = df['A2_3'].fillna('99')\n",
        "df['A3'] = df['A3'].fillna('99')"
      ],
      "metadata": {
        "id": "wdoOEFwIeyL4"
      },
      "execution_count": null,
      "outputs": []
    },
    {
      "cell_type": "code",
      "source": [
        "df['H2'].replace({999997: 999998}, inplace=True)\n",
        "df['H2a'].replace({98: 99}, inplace=True)"
      ],
      "metadata": {
        "id": "KBkK8VMbjhXT"
      },
      "execution_count": null,
      "outputs": []
    },
    {
      "cell_type": "code",
      "source": [
        "print(df.columns)"
      ],
      "metadata": {
        "colab": {
          "base_uri": "https://localhost:8080/"
        },
        "id": "s1R_V8j1v6Qg",
        "outputId": "7e9e920d-c351-4698-a8a3-908ffe39d3a1"
      },
      "execution_count": null,
      "outputs": [
        {
          "output_type": "stream",
          "name": "stdout",
          "text": [
            "Index(['IDTNS', 'TIPO', 'OPERADORA', 'ESTADO', 'DATA', 'ANO_BASE', 'Q1', 'Q2',\n",
            "       'Q2_1', 'Q2_2', 'Q3', 'Q4', 'Q5', 'Q6', 'Q7', 'Q7a', 'Q8', 'J1', 'B1_1',\n",
            "       'B1_2', 'C1_1', 'C1_2', 'C1_3', 'D1_1', 'D1_2', 'A1_1', 'A1_2', 'A1_3',\n",
            "       'A1_4', 'A2_1', 'A2_2', 'A2_3', 'A3', 'A4', 'E1', 'E2', 'E3', 'E4',\n",
            "       'E5', 'E6', 'E7', 'E8', 'F1', 'F2_1', 'F2_2', 'F2_3', 'F3', 'F4_1',\n",
            "       'F4_2', 'F4_3', 'G1', 'G2_1', 'G2_2', 'G2_3', 'H0', 'COD_IBGE', 'H1',\n",
            "       'H2', 'H2a', 'H3', 'I1', 'I2', 'PESO'],\n",
            "      dtype='object')\n"
          ]
        }
      ]
    },
    {
      "cell_type": "code",
      "source": [
        "df.dropna(axis=1, inplace=True)"
      ],
      "metadata": {
        "id": "ErFT71maV9j3"
      },
      "execution_count": null,
      "outputs": []
    },
    {
      "cell_type": "code",
      "source": [
        "print(df)"
      ],
      "metadata": {
        "colab": {
          "base_uri": "https://localhost:8080/"
        },
        "id": "Ht6psllZXhXx",
        "outputId": "58f9c2e2-8741-423f-ac39-8c4901937bf0"
      },
      "execution_count": null,
      "outputs": [
        {
          "output_type": "stream",
          "name": "stdout",
          "text": [
            "       IDTNS         TIPO  OPERADORA ESTADO       DATA  ANO_BASE  Q1  Q2_1  \\\n",
            "0      61433  BANDA-LARGA  CLARO/NET     ES  16/jul/20      2020   1     2   \n",
            "1     234054  BANDA-LARGA  CLARO/NET     SP  16/jul/20      2020   1     2   \n",
            "2     235004  BANDA-LARGA  CLARO/NET     SP  16/jul/20      2020   1     2   \n",
            "3     429370  BANDA-LARGA         OI     DF  16/jul/20      2020   1     2   \n",
            "4     579712  BANDA-LARGA         OI     RN  16/jul/20      2020   1     2   \n",
            "...      ...          ...        ...    ...        ...       ...  ..   ...   \n",
            "1094  855226  BANDA-LARGA       VIVO     DF  06/ago/20      2020   1     2   \n",
            "1095  855472  BANDA-LARGA       VIVO     DF  06/ago/20      2020   1     2   \n",
            "1096  855509  BANDA-LARGA       VIVO     DF  06/ago/20      2020   1     2   \n",
            "1097  855666  BANDA-LARGA       VIVO     DF  06/ago/20      2020   1     2   \n",
            "1098  876249  BANDA-LARGA       VIVO     GO  06/ago/20      2020   1     2   \n",
            "\n",
            "      Q2_2  Q3  ...  G2_2  G2_3                     H0  COD_IBGE  H1      H2  \\\n",
            "0        2   1  ...     1     2             VILA VELHA   3205200  99  999998   \n",
            "1        2   1  ...     1     1              SÃO PAULO   3550308   2    3000   \n",
            "2        2   1  ...     1     1  SÃO BERNARDO DO CAMPO   3548708   2   10000   \n",
            "3        2   1  ...     1     1               BRASÍLIA   5300108   1    1300   \n",
            "4        2   1  ...     2     1                  NATAL   2408102   1    1040   \n",
            "...    ...  ..  ...   ...   ...                    ...       ...  ..     ...   \n",
            "1094     2   1  ...     2     1               BRASÍLIA   5300108   1  999998   \n",
            "1095     2   1  ...     1     1               BRASÍLIA   5300108   1    2000   \n",
            "1096     2   1  ...     2     1               BRASÍLIA   5300108   2  999999   \n",
            "1097     2   1  ...     1     1               BRASÍLIA   5300108   1    5000   \n",
            "1098     2   1  ...     2     1               LUZIÂNIA   5212501   3    3000   \n",
            "\n",
            "      H2a  H3  I1         PESO  \n",
            "0      99   7   3  0,630163929  \n",
            "1       2   7   1  19,63292645  \n",
            "2       4   7   1  19,63292645  \n",
            "3       1   2   1  0,437668628  \n",
            "4       1   2   3  0,093547923  \n",
            "...   ...  ..  ..          ...  \n",
            "1094   99   7   1  0,860180898  \n",
            "1095    1   4   1  0,860180898  \n",
            "1096   99   7   1  0,860180898  \n",
            "1097    3   7   1  0,860180898  \n",
            "1098    2   7   2  0,791468434  \n",
            "\n",
            "[1099 rows x 50 columns]\n"
          ]
        }
      ]
    },
    {
      "cell_type": "code",
      "source": [
        "print(df.describe())"
      ],
      "metadata": {
        "colab": {
          "base_uri": "https://localhost:8080/"
        },
        "id": "zPD_NeEjWRkl",
        "outputId": "4d2639ce-791c-43c5-baf8-81d6bdb1e65b"
      },
      "execution_count": null,
      "outputs": [
        {
          "output_type": "stream",
          "name": "stdout",
          "text": [
            "               IDTNS  ANO_BASE      Q1    Q2_1    Q2_2      Q3      Q4  \\\n",
            "count    1099.000000    1099.0  1099.0  1099.0  1099.0  1099.0  1099.0   \n",
            "mean   503144.777980    2020.0     1.0     2.0     2.0     1.0     1.0   \n",
            "std    271812.834664       0.0     0.0     0.0     0.0     0.0     0.0   \n",
            "min        54.000000    2020.0     1.0     2.0     2.0     1.0     1.0   \n",
            "25%    266378.500000    2020.0     1.0     2.0     2.0     1.0     1.0   \n",
            "50%    506122.000000    2020.0     1.0     2.0     2.0     1.0     1.0   \n",
            "75%    719919.500000    2020.0     1.0     2.0     2.0     1.0     1.0   \n",
            "max    984839.000000    2020.0     1.0     2.0     2.0     1.0     1.0   \n",
            "\n",
            "                Q5      Q6           Q7  ...           F3         G2_1  \\\n",
            "count  1099.000000  1099.0  1099.000000  ...  1099.000000  1099.000000   \n",
            "mean      1.207461     1.0    44.008189  ...     1.525933     1.705187   \n",
            "std       0.405673     0.0    14.305696  ...     0.499554     0.456166   \n",
            "min       1.000000     1.0    18.000000  ...     1.000000     1.000000   \n",
            "25%       1.000000     1.0    33.000000  ...     1.000000     1.000000   \n",
            "50%       1.000000     1.0    43.000000  ...     2.000000     2.000000   \n",
            "75%       1.000000     1.0    55.000000  ...     2.000000     2.000000   \n",
            "max       2.000000     1.0    87.000000  ...     2.000000     2.000000   \n",
            "\n",
            "              G2_2         G2_3      COD_IBGE           H1             H2  \\\n",
            "count  1099.000000  1099.000000  1.099000e+03  1099.000000    1099.000000   \n",
            "mean      1.665150     1.249318  3.283532e+06     3.621474  268984.025478   \n",
            "std       0.472153     0.432815  1.280976e+06    12.693046  438939.758740   \n",
            "min       1.000000     1.000000  9.999000e+03     1.000000     300.000000   \n",
            "25%       1.000000     1.000000  2.408102e+06     1.000000    3000.000000   \n",
            "50%       2.000000     1.000000  3.157807e+06     2.000000    5000.000000   \n",
            "75%       2.000000     1.000000  4.206104e+06     2.000000  999998.000000   \n",
            "max       2.000000     2.000000  5.300108e+06    99.000000  999999.000000   \n",
            "\n",
            "               H2a           H3           I1  \n",
            "count  1099.000000  1099.000000  1099.000000  \n",
            "mean     15.109190     6.929026     1.282075  \n",
            "std      32.613971     9.416514     0.688546  \n",
            "min       1.000000     1.000000     1.000000  \n",
            "25%       1.000000     5.000000     1.000000  \n",
            "50%       2.000000     6.000000     1.000000  \n",
            "75%       4.000000     7.000000     1.000000  \n",
            "max      99.000000    99.000000     3.000000  \n",
            "\n",
            "[8 rows x 35 columns]\n"
          ]
        }
      ]
    },
    {
      "cell_type": "code",
      "source": [
        "print(df.isnull().sum())"
      ],
      "metadata": {
        "colab": {
          "base_uri": "https://localhost:8080/"
        },
        "id": "fhfuSb0DUDL6",
        "outputId": "9ab38763-62cd-4ec6-eaa2-abd3524a1a89"
      },
      "execution_count": null,
      "outputs": [
        {
          "output_type": "stream",
          "name": "stdout",
          "text": [
            "IDTNS        0\n",
            "TIPO         0\n",
            "OPERADORA    0\n",
            "ESTADO       0\n",
            "DATA         0\n",
            "ANO_BASE     0\n",
            "Q1           0\n",
            "Q2_1         0\n",
            "Q2_2         0\n",
            "Q3           0\n",
            "Q4           0\n",
            "Q5           0\n",
            "Q6           0\n",
            "Q7           0\n",
            "Q7a          0\n",
            "Q8           0\n",
            "J1           0\n",
            "B1_1         0\n",
            "B1_2         0\n",
            "C1_1         0\n",
            "C1_2         0\n",
            "C1_3         0\n",
            "D1_1         0\n",
            "D1_2         0\n",
            "A1_1         0\n",
            "A2_1         0\n",
            "A2_2         0\n",
            "A2_3         0\n",
            "A3           0\n",
            "E1           0\n",
            "E3           0\n",
            "E5           0\n",
            "E7           0\n",
            "E8           0\n",
            "F1           0\n",
            "F3           0\n",
            "F4_1         0\n",
            "F4_2         0\n",
            "F4_3         0\n",
            "G2_1         0\n",
            "G2_2         0\n",
            "G2_3         0\n",
            "H0           0\n",
            "COD_IBGE     0\n",
            "H1           0\n",
            "H2           0\n",
            "H2a          0\n",
            "H3           0\n",
            "I1           0\n",
            "PESO         0\n",
            "dtype: int64\n"
          ]
        }
      ]
    },
    {
      "cell_type": "markdown",
      "source": [
        "### Limpeza de dados\n",
        "\n",
        "Colunas que serão removidas pois não tem valor significativo para Machine Learning: IDTNS, DATA, COD_IBGE, Q1, Q2, Q3, Q4, Q6, E1, E3, E5, F1, H0\n",
        "\n",
        "As Colunas que foram tiradas anteriormente possuiam mais valores nulos do que reais, então o próprio Colab as descartou e não faria sentido utilizar uma coluna em que 20% dos dados estão preenchidos."
      ],
      "metadata": {
        "id": "zbLNzkl3X1n-"
      }
    },
    {
      "cell_type": "code",
      "source": [
        "df.drop(['TIPO','IDTNS','DATA','ANO_BASE','COD_IBGE','Q1','Q2_1','Q2_2','Q3','Q4','Q6','E1','E3','E5','F1','H0','H3','I1'],axis = 1,inplace=True)"
      ],
      "metadata": {
        "id": "DKln6OOAyx1_"
      },
      "execution_count": null,
      "outputs": []
    },
    {
      "cell_type": "code",
      "source": [
        "df"
      ],
      "metadata": {
        "colab": {
          "base_uri": "https://localhost:8080/",
          "height": 444
        },
        "id": "IqIxseO8wX_v",
        "outputId": "e56c484c-7275-4aca-fa6a-0747b7660acc"
      },
      "execution_count": null,
      "outputs": [
        {
          "output_type": "execute_result",
          "data": {
            "text/plain": [
              "      OPERADORA ESTADO  Q5  Q7  Q7a  Q8  J1  B1_1  B1_2  C1_1  ...  F4_1  \\\n",
              "0     CLARO/NET     ES   1  76    9   2   6     6     6     8  ...    99   \n",
              "1     CLARO/NET     SP   2  63    8   1   8     5     5     9  ...    99   \n",
              "2     CLARO/NET     SP   1  56    8   2   0     0     0     1  ...   7.0   \n",
              "3            OI     DF   1  52    8   1  10    10    10    10  ...    99   \n",
              "4            OI     RN   1  53    8   1   5    10     0     0  ...  10.0   \n",
              "...         ...    ...  ..  ..  ...  ..  ..   ...   ...   ...  ...   ...   \n",
              "1094       VIVO     DF   1  57    8   2   5     5     3     5  ...  10.0   \n",
              "1095       VIVO     DF   1  52    8   1   6     7     7    10  ...  10.0   \n",
              "1096       VIVO     DF   2  55    8   2   6     5    99     7  ...    99   \n",
              "1097       VIVO     DF   1  35    5   2   8    10    10     8  ...   9.0   \n",
              "1098       VIVO     GO   1  22    3   2   5     5     3     1  ...   0.0   \n",
              "\n",
              "      F4_2  F4_3  G2_1 G2_2 G2_3  H1      H2 H2a         PESO  \n",
              "0       99    99     2    1    2  99  999998  99  0,630163929  \n",
              "1       99    99     1    1    1   2    3000   2  19,63292645  \n",
              "2      7.0   9.0     1    1    1   2   10000   4  19,63292645  \n",
              "3       99    99     1    1    1   1    1300   1  0,437668628  \n",
              "4      7.0  10.0     2    2    1   1    1040   1  0,093547923  \n",
              "...    ...   ...   ...  ...  ...  ..     ...  ..          ...  \n",
              "1094  10.0  10.0     1    2    1   1  999998  99  0,860180898  \n",
              "1095   7.0  10.0     2    1    1   1    2000   1  0,860180898  \n",
              "1096    99    99     1    2    1   2  999999  99  0,860180898  \n",
              "1097  10.0   8.0     1    1    1   1    5000   3  0,860180898  \n",
              "1098   0.0   1.0     2    2    1   3    3000   2  0,791468434  \n",
              "\n",
              "[1099 rows x 32 columns]"
            ],
            "text/html": [
              "\n",
              "  <div id=\"df-1bcc2069-cf09-4c59-9e0c-aa51dc1276f9\" class=\"colab-df-container\">\n",
              "    <div>\n",
              "<style scoped>\n",
              "    .dataframe tbody tr th:only-of-type {\n",
              "        vertical-align: middle;\n",
              "    }\n",
              "\n",
              "    .dataframe tbody tr th {\n",
              "        vertical-align: top;\n",
              "    }\n",
              "\n",
              "    .dataframe thead th {\n",
              "        text-align: right;\n",
              "    }\n",
              "</style>\n",
              "<table border=\"1\" class=\"dataframe\">\n",
              "  <thead>\n",
              "    <tr style=\"text-align: right;\">\n",
              "      <th></th>\n",
              "      <th>OPERADORA</th>\n",
              "      <th>ESTADO</th>\n",
              "      <th>Q5</th>\n",
              "      <th>Q7</th>\n",
              "      <th>Q7a</th>\n",
              "      <th>Q8</th>\n",
              "      <th>J1</th>\n",
              "      <th>B1_1</th>\n",
              "      <th>B1_2</th>\n",
              "      <th>C1_1</th>\n",
              "      <th>...</th>\n",
              "      <th>F4_1</th>\n",
              "      <th>F4_2</th>\n",
              "      <th>F4_3</th>\n",
              "      <th>G2_1</th>\n",
              "      <th>G2_2</th>\n",
              "      <th>G2_3</th>\n",
              "      <th>H1</th>\n",
              "      <th>H2</th>\n",
              "      <th>H2a</th>\n",
              "      <th>PESO</th>\n",
              "    </tr>\n",
              "  </thead>\n",
              "  <tbody>\n",
              "    <tr>\n",
              "      <th>0</th>\n",
              "      <td>CLARO/NET</td>\n",
              "      <td>ES</td>\n",
              "      <td>1</td>\n",
              "      <td>76</td>\n",
              "      <td>9</td>\n",
              "      <td>2</td>\n",
              "      <td>6</td>\n",
              "      <td>6</td>\n",
              "      <td>6</td>\n",
              "      <td>8</td>\n",
              "      <td>...</td>\n",
              "      <td>99</td>\n",
              "      <td>99</td>\n",
              "      <td>99</td>\n",
              "      <td>2</td>\n",
              "      <td>1</td>\n",
              "      <td>2</td>\n",
              "      <td>99</td>\n",
              "      <td>999998</td>\n",
              "      <td>99</td>\n",
              "      <td>0,630163929</td>\n",
              "    </tr>\n",
              "    <tr>\n",
              "      <th>1</th>\n",
              "      <td>CLARO/NET</td>\n",
              "      <td>SP</td>\n",
              "      <td>2</td>\n",
              "      <td>63</td>\n",
              "      <td>8</td>\n",
              "      <td>1</td>\n",
              "      <td>8</td>\n",
              "      <td>5</td>\n",
              "      <td>5</td>\n",
              "      <td>9</td>\n",
              "      <td>...</td>\n",
              "      <td>99</td>\n",
              "      <td>99</td>\n",
              "      <td>99</td>\n",
              "      <td>1</td>\n",
              "      <td>1</td>\n",
              "      <td>1</td>\n",
              "      <td>2</td>\n",
              "      <td>3000</td>\n",
              "      <td>2</td>\n",
              "      <td>19,63292645</td>\n",
              "    </tr>\n",
              "    <tr>\n",
              "      <th>2</th>\n",
              "      <td>CLARO/NET</td>\n",
              "      <td>SP</td>\n",
              "      <td>1</td>\n",
              "      <td>56</td>\n",
              "      <td>8</td>\n",
              "      <td>2</td>\n",
              "      <td>0</td>\n",
              "      <td>0</td>\n",
              "      <td>0</td>\n",
              "      <td>1</td>\n",
              "      <td>...</td>\n",
              "      <td>7.0</td>\n",
              "      <td>7.0</td>\n",
              "      <td>9.0</td>\n",
              "      <td>1</td>\n",
              "      <td>1</td>\n",
              "      <td>1</td>\n",
              "      <td>2</td>\n",
              "      <td>10000</td>\n",
              "      <td>4</td>\n",
              "      <td>19,63292645</td>\n",
              "    </tr>\n",
              "    <tr>\n",
              "      <th>3</th>\n",
              "      <td>OI</td>\n",
              "      <td>DF</td>\n",
              "      <td>1</td>\n",
              "      <td>52</td>\n",
              "      <td>8</td>\n",
              "      <td>1</td>\n",
              "      <td>10</td>\n",
              "      <td>10</td>\n",
              "      <td>10</td>\n",
              "      <td>10</td>\n",
              "      <td>...</td>\n",
              "      <td>99</td>\n",
              "      <td>99</td>\n",
              "      <td>99</td>\n",
              "      <td>1</td>\n",
              "      <td>1</td>\n",
              "      <td>1</td>\n",
              "      <td>1</td>\n",
              "      <td>1300</td>\n",
              "      <td>1</td>\n",
              "      <td>0,437668628</td>\n",
              "    </tr>\n",
              "    <tr>\n",
              "      <th>4</th>\n",
              "      <td>OI</td>\n",
              "      <td>RN</td>\n",
              "      <td>1</td>\n",
              "      <td>53</td>\n",
              "      <td>8</td>\n",
              "      <td>1</td>\n",
              "      <td>5</td>\n",
              "      <td>10</td>\n",
              "      <td>0</td>\n",
              "      <td>0</td>\n",
              "      <td>...</td>\n",
              "      <td>10.0</td>\n",
              "      <td>7.0</td>\n",
              "      <td>10.0</td>\n",
              "      <td>2</td>\n",
              "      <td>2</td>\n",
              "      <td>1</td>\n",
              "      <td>1</td>\n",
              "      <td>1040</td>\n",
              "      <td>1</td>\n",
              "      <td>0,093547923</td>\n",
              "    </tr>\n",
              "    <tr>\n",
              "      <th>...</th>\n",
              "      <td>...</td>\n",
              "      <td>...</td>\n",
              "      <td>...</td>\n",
              "      <td>...</td>\n",
              "      <td>...</td>\n",
              "      <td>...</td>\n",
              "      <td>...</td>\n",
              "      <td>...</td>\n",
              "      <td>...</td>\n",
              "      <td>...</td>\n",
              "      <td>...</td>\n",
              "      <td>...</td>\n",
              "      <td>...</td>\n",
              "      <td>...</td>\n",
              "      <td>...</td>\n",
              "      <td>...</td>\n",
              "      <td>...</td>\n",
              "      <td>...</td>\n",
              "      <td>...</td>\n",
              "      <td>...</td>\n",
              "      <td>...</td>\n",
              "    </tr>\n",
              "    <tr>\n",
              "      <th>1094</th>\n",
              "      <td>VIVO</td>\n",
              "      <td>DF</td>\n",
              "      <td>1</td>\n",
              "      <td>57</td>\n",
              "      <td>8</td>\n",
              "      <td>2</td>\n",
              "      <td>5</td>\n",
              "      <td>5</td>\n",
              "      <td>3</td>\n",
              "      <td>5</td>\n",
              "      <td>...</td>\n",
              "      <td>10.0</td>\n",
              "      <td>10.0</td>\n",
              "      <td>10.0</td>\n",
              "      <td>1</td>\n",
              "      <td>2</td>\n",
              "      <td>1</td>\n",
              "      <td>1</td>\n",
              "      <td>999998</td>\n",
              "      <td>99</td>\n",
              "      <td>0,860180898</td>\n",
              "    </tr>\n",
              "    <tr>\n",
              "      <th>1095</th>\n",
              "      <td>VIVO</td>\n",
              "      <td>DF</td>\n",
              "      <td>1</td>\n",
              "      <td>52</td>\n",
              "      <td>8</td>\n",
              "      <td>1</td>\n",
              "      <td>6</td>\n",
              "      <td>7</td>\n",
              "      <td>7</td>\n",
              "      <td>10</td>\n",
              "      <td>...</td>\n",
              "      <td>10.0</td>\n",
              "      <td>7.0</td>\n",
              "      <td>10.0</td>\n",
              "      <td>2</td>\n",
              "      <td>1</td>\n",
              "      <td>1</td>\n",
              "      <td>1</td>\n",
              "      <td>2000</td>\n",
              "      <td>1</td>\n",
              "      <td>0,860180898</td>\n",
              "    </tr>\n",
              "    <tr>\n",
              "      <th>1096</th>\n",
              "      <td>VIVO</td>\n",
              "      <td>DF</td>\n",
              "      <td>2</td>\n",
              "      <td>55</td>\n",
              "      <td>8</td>\n",
              "      <td>2</td>\n",
              "      <td>6</td>\n",
              "      <td>5</td>\n",
              "      <td>99</td>\n",
              "      <td>7</td>\n",
              "      <td>...</td>\n",
              "      <td>99</td>\n",
              "      <td>99</td>\n",
              "      <td>99</td>\n",
              "      <td>1</td>\n",
              "      <td>2</td>\n",
              "      <td>1</td>\n",
              "      <td>2</td>\n",
              "      <td>999999</td>\n",
              "      <td>99</td>\n",
              "      <td>0,860180898</td>\n",
              "    </tr>\n",
              "    <tr>\n",
              "      <th>1097</th>\n",
              "      <td>VIVO</td>\n",
              "      <td>DF</td>\n",
              "      <td>1</td>\n",
              "      <td>35</td>\n",
              "      <td>5</td>\n",
              "      <td>2</td>\n",
              "      <td>8</td>\n",
              "      <td>10</td>\n",
              "      <td>10</td>\n",
              "      <td>8</td>\n",
              "      <td>...</td>\n",
              "      <td>9.0</td>\n",
              "      <td>10.0</td>\n",
              "      <td>8.0</td>\n",
              "      <td>1</td>\n",
              "      <td>1</td>\n",
              "      <td>1</td>\n",
              "      <td>1</td>\n",
              "      <td>5000</td>\n",
              "      <td>3</td>\n",
              "      <td>0,860180898</td>\n",
              "    </tr>\n",
              "    <tr>\n",
              "      <th>1098</th>\n",
              "      <td>VIVO</td>\n",
              "      <td>GO</td>\n",
              "      <td>1</td>\n",
              "      <td>22</td>\n",
              "      <td>3</td>\n",
              "      <td>2</td>\n",
              "      <td>5</td>\n",
              "      <td>5</td>\n",
              "      <td>3</td>\n",
              "      <td>1</td>\n",
              "      <td>...</td>\n",
              "      <td>0.0</td>\n",
              "      <td>0.0</td>\n",
              "      <td>1.0</td>\n",
              "      <td>2</td>\n",
              "      <td>2</td>\n",
              "      <td>1</td>\n",
              "      <td>3</td>\n",
              "      <td>3000</td>\n",
              "      <td>2</td>\n",
              "      <td>0,791468434</td>\n",
              "    </tr>\n",
              "  </tbody>\n",
              "</table>\n",
              "<p>1099 rows × 32 columns</p>\n",
              "</div>\n",
              "    <div class=\"colab-df-buttons\">\n",
              "\n",
              "  <div class=\"colab-df-container\">\n",
              "    <button class=\"colab-df-convert\" onclick=\"convertToInteractive('df-1bcc2069-cf09-4c59-9e0c-aa51dc1276f9')\"\n",
              "            title=\"Convert this dataframe to an interactive table.\"\n",
              "            style=\"display:none;\">\n",
              "\n",
              "  <svg xmlns=\"http://www.w3.org/2000/svg\" height=\"24px\" viewBox=\"0 -960 960 960\">\n",
              "    <path d=\"M120-120v-720h720v720H120Zm60-500h600v-160H180v160Zm220 220h160v-160H400v160Zm0 220h160v-160H400v160ZM180-400h160v-160H180v160Zm440 0h160v-160H620v160ZM180-180h160v-160H180v160Zm440 0h160v-160H620v160Z\"/>\n",
              "  </svg>\n",
              "    </button>\n",
              "\n",
              "  <style>\n",
              "    .colab-df-container {\n",
              "      display:flex;\n",
              "      gap: 12px;\n",
              "    }\n",
              "\n",
              "    .colab-df-convert {\n",
              "      background-color: #E8F0FE;\n",
              "      border: none;\n",
              "      border-radius: 50%;\n",
              "      cursor: pointer;\n",
              "      display: none;\n",
              "      fill: #1967D2;\n",
              "      height: 32px;\n",
              "      padding: 0 0 0 0;\n",
              "      width: 32px;\n",
              "    }\n",
              "\n",
              "    .colab-df-convert:hover {\n",
              "      background-color: #E2EBFA;\n",
              "      box-shadow: 0px 1px 2px rgba(60, 64, 67, 0.3), 0px 1px 3px 1px rgba(60, 64, 67, 0.15);\n",
              "      fill: #174EA6;\n",
              "    }\n",
              "\n",
              "    .colab-df-buttons div {\n",
              "      margin-bottom: 4px;\n",
              "    }\n",
              "\n",
              "    [theme=dark] .colab-df-convert {\n",
              "      background-color: #3B4455;\n",
              "      fill: #D2E3FC;\n",
              "    }\n",
              "\n",
              "    [theme=dark] .colab-df-convert:hover {\n",
              "      background-color: #434B5C;\n",
              "      box-shadow: 0px 1px 3px 1px rgba(0, 0, 0, 0.15);\n",
              "      filter: drop-shadow(0px 1px 2px rgba(0, 0, 0, 0.3));\n",
              "      fill: #FFFFFF;\n",
              "    }\n",
              "  </style>\n",
              "\n",
              "    <script>\n",
              "      const buttonEl =\n",
              "        document.querySelector('#df-1bcc2069-cf09-4c59-9e0c-aa51dc1276f9 button.colab-df-convert');\n",
              "      buttonEl.style.display =\n",
              "        google.colab.kernel.accessAllowed ? 'block' : 'none';\n",
              "\n",
              "      async function convertToInteractive(key) {\n",
              "        const element = document.querySelector('#df-1bcc2069-cf09-4c59-9e0c-aa51dc1276f9');\n",
              "        const dataTable =\n",
              "          await google.colab.kernel.invokeFunction('convertToInteractive',\n",
              "                                                    [key], {});\n",
              "        if (!dataTable) return;\n",
              "\n",
              "        const docLinkHtml = 'Like what you see? Visit the ' +\n",
              "          '<a target=\"_blank\" href=https://colab.research.google.com/notebooks/data_table.ipynb>data table notebook</a>'\n",
              "          + ' to learn more about interactive tables.';\n",
              "        element.innerHTML = '';\n",
              "        dataTable['output_type'] = 'display_data';\n",
              "        await google.colab.output.renderOutput(dataTable, element);\n",
              "        const docLink = document.createElement('div');\n",
              "        docLink.innerHTML = docLinkHtml;\n",
              "        element.appendChild(docLink);\n",
              "      }\n",
              "    </script>\n",
              "  </div>\n",
              "\n",
              "\n",
              "<div id=\"df-e82b2c21-e2e0-4ec5-9b4a-16685046816a\">\n",
              "  <button class=\"colab-df-quickchart\" onclick=\"quickchart('df-e82b2c21-e2e0-4ec5-9b4a-16685046816a')\"\n",
              "            title=\"Suggest charts\"\n",
              "            style=\"display:none;\">\n",
              "\n",
              "<svg xmlns=\"http://www.w3.org/2000/svg\" height=\"24px\"viewBox=\"0 0 24 24\"\n",
              "     width=\"24px\">\n",
              "    <g>\n",
              "        <path d=\"M19 3H5c-1.1 0-2 .9-2 2v14c0 1.1.9 2 2 2h14c1.1 0 2-.9 2-2V5c0-1.1-.9-2-2-2zM9 17H7v-7h2v7zm4 0h-2V7h2v10zm4 0h-2v-4h2v4z\"/>\n",
              "    </g>\n",
              "</svg>\n",
              "  </button>\n",
              "\n",
              "<style>\n",
              "  .colab-df-quickchart {\n",
              "      --bg-color: #E8F0FE;\n",
              "      --fill-color: #1967D2;\n",
              "      --hover-bg-color: #E2EBFA;\n",
              "      --hover-fill-color: #174EA6;\n",
              "      --disabled-fill-color: #AAA;\n",
              "      --disabled-bg-color: #DDD;\n",
              "  }\n",
              "\n",
              "  [theme=dark] .colab-df-quickchart {\n",
              "      --bg-color: #3B4455;\n",
              "      --fill-color: #D2E3FC;\n",
              "      --hover-bg-color: #434B5C;\n",
              "      --hover-fill-color: #FFFFFF;\n",
              "      --disabled-bg-color: #3B4455;\n",
              "      --disabled-fill-color: #666;\n",
              "  }\n",
              "\n",
              "  .colab-df-quickchart {\n",
              "    background-color: var(--bg-color);\n",
              "    border: none;\n",
              "    border-radius: 50%;\n",
              "    cursor: pointer;\n",
              "    display: none;\n",
              "    fill: var(--fill-color);\n",
              "    height: 32px;\n",
              "    padding: 0;\n",
              "    width: 32px;\n",
              "  }\n",
              "\n",
              "  .colab-df-quickchart:hover {\n",
              "    background-color: var(--hover-bg-color);\n",
              "    box-shadow: 0 1px 2px rgba(60, 64, 67, 0.3), 0 1px 3px 1px rgba(60, 64, 67, 0.15);\n",
              "    fill: var(--button-hover-fill-color);\n",
              "  }\n",
              "\n",
              "  .colab-df-quickchart-complete:disabled,\n",
              "  .colab-df-quickchart-complete:disabled:hover {\n",
              "    background-color: var(--disabled-bg-color);\n",
              "    fill: var(--disabled-fill-color);\n",
              "    box-shadow: none;\n",
              "  }\n",
              "\n",
              "  .colab-df-spinner {\n",
              "    border: 2px solid var(--fill-color);\n",
              "    border-color: transparent;\n",
              "    border-bottom-color: var(--fill-color);\n",
              "    animation:\n",
              "      spin 1s steps(1) infinite;\n",
              "  }\n",
              "\n",
              "  @keyframes spin {\n",
              "    0% {\n",
              "      border-color: transparent;\n",
              "      border-bottom-color: var(--fill-color);\n",
              "      border-left-color: var(--fill-color);\n",
              "    }\n",
              "    20% {\n",
              "      border-color: transparent;\n",
              "      border-left-color: var(--fill-color);\n",
              "      border-top-color: var(--fill-color);\n",
              "    }\n",
              "    30% {\n",
              "      border-color: transparent;\n",
              "      border-left-color: var(--fill-color);\n",
              "      border-top-color: var(--fill-color);\n",
              "      border-right-color: var(--fill-color);\n",
              "    }\n",
              "    40% {\n",
              "      border-color: transparent;\n",
              "      border-right-color: var(--fill-color);\n",
              "      border-top-color: var(--fill-color);\n",
              "    }\n",
              "    60% {\n",
              "      border-color: transparent;\n",
              "      border-right-color: var(--fill-color);\n",
              "    }\n",
              "    80% {\n",
              "      border-color: transparent;\n",
              "      border-right-color: var(--fill-color);\n",
              "      border-bottom-color: var(--fill-color);\n",
              "    }\n",
              "    90% {\n",
              "      border-color: transparent;\n",
              "      border-bottom-color: var(--fill-color);\n",
              "    }\n",
              "  }\n",
              "</style>\n",
              "\n",
              "  <script>\n",
              "    async function quickchart(key) {\n",
              "      const quickchartButtonEl =\n",
              "        document.querySelector('#' + key + ' button');\n",
              "      quickchartButtonEl.disabled = true;  // To prevent multiple clicks.\n",
              "      quickchartButtonEl.classList.add('colab-df-spinner');\n",
              "      try {\n",
              "        const charts = await google.colab.kernel.invokeFunction(\n",
              "            'suggestCharts', [key], {});\n",
              "      } catch (error) {\n",
              "        console.error('Error during call to suggestCharts:', error);\n",
              "      }\n",
              "      quickchartButtonEl.classList.remove('colab-df-spinner');\n",
              "      quickchartButtonEl.classList.add('colab-df-quickchart-complete');\n",
              "    }\n",
              "    (() => {\n",
              "      let quickchartButtonEl =\n",
              "        document.querySelector('#df-e82b2c21-e2e0-4ec5-9b4a-16685046816a button');\n",
              "      quickchartButtonEl.style.display =\n",
              "        google.colab.kernel.accessAllowed ? 'block' : 'none';\n",
              "    })();\n",
              "  </script>\n",
              "</div>\n",
              "\n",
              "  <div id=\"id_7325ae65-fcbf-4a56-843e-86018581cac1\">\n",
              "    <style>\n",
              "      .colab-df-generate {\n",
              "        background-color: #E8F0FE;\n",
              "        border: none;\n",
              "        border-radius: 50%;\n",
              "        cursor: pointer;\n",
              "        display: none;\n",
              "        fill: #1967D2;\n",
              "        height: 32px;\n",
              "        padding: 0 0 0 0;\n",
              "        width: 32px;\n",
              "      }\n",
              "\n",
              "      .colab-df-generate:hover {\n",
              "        background-color: #E2EBFA;\n",
              "        box-shadow: 0px 1px 2px rgba(60, 64, 67, 0.3), 0px 1px 3px 1px rgba(60, 64, 67, 0.15);\n",
              "        fill: #174EA6;\n",
              "      }\n",
              "\n",
              "      [theme=dark] .colab-df-generate {\n",
              "        background-color: #3B4455;\n",
              "        fill: #D2E3FC;\n",
              "      }\n",
              "\n",
              "      [theme=dark] .colab-df-generate:hover {\n",
              "        background-color: #434B5C;\n",
              "        box-shadow: 0px 1px 3px 1px rgba(0, 0, 0, 0.15);\n",
              "        filter: drop-shadow(0px 1px 2px rgba(0, 0, 0, 0.3));\n",
              "        fill: #FFFFFF;\n",
              "      }\n",
              "    </style>\n",
              "    <button class=\"colab-df-generate\" onclick=\"generateWithVariable('df')\"\n",
              "            title=\"Generate code using this dataframe.\"\n",
              "            style=\"display:none;\">\n",
              "\n",
              "  <svg xmlns=\"http://www.w3.org/2000/svg\" height=\"24px\"viewBox=\"0 0 24 24\"\n",
              "       width=\"24px\">\n",
              "    <path d=\"M7,19H8.4L18.45,9,17,7.55,7,17.6ZM5,21V16.75L18.45,3.32a2,2,0,0,1,2.83,0l1.4,1.43a1.91,1.91,0,0,1,.58,1.4,1.91,1.91,0,0,1-.58,1.4L9.25,21ZM18.45,9,17,7.55Zm-12,3A5.31,5.31,0,0,0,4.9,8.1,5.31,5.31,0,0,0,1,6.5,5.31,5.31,0,0,0,4.9,4.9,5.31,5.31,0,0,0,6.5,1,5.31,5.31,0,0,0,8.1,4.9,5.31,5.31,0,0,0,12,6.5,5.46,5.46,0,0,0,6.5,12Z\"/>\n",
              "  </svg>\n",
              "    </button>\n",
              "    <script>\n",
              "      (() => {\n",
              "      const buttonEl =\n",
              "        document.querySelector('#id_7325ae65-fcbf-4a56-843e-86018581cac1 button.colab-df-generate');\n",
              "      buttonEl.style.display =\n",
              "        google.colab.kernel.accessAllowed ? 'block' : 'none';\n",
              "\n",
              "      buttonEl.onclick = () => {\n",
              "        google.colab.notebook.generateWithVariable('df');\n",
              "      }\n",
              "      })();\n",
              "    </script>\n",
              "  </div>\n",
              "\n",
              "    </div>\n",
              "  </div>\n"
            ],
            "application/vnd.google.colaboratory.intrinsic+json": {
              "type": "dataframe",
              "variable_name": "df"
            }
          },
          "metadata": {},
          "execution_count": 174
        }
      ]
    },
    {
      "cell_type": "markdown",
      "source": [
        "Encoding de variáveis categóricas"
      ],
      "metadata": {
        "id": "gf5TD0c-S-aU"
      }
    },
    {
      "cell_type": "code",
      "source": [
        "from sklearn.preprocessing import LabelEncoder\n",
        "label_encoder = LabelEncoder()"
      ],
      "metadata": {
        "id": "nhlyro9LXmhl"
      },
      "execution_count": null,
      "outputs": []
    },
    {
      "cell_type": "markdown",
      "source": [
        "Operadoras"
      ],
      "metadata": {
        "id": "rmwj4a64kvn7"
      }
    },
    {
      "cell_type": "code",
      "source": [
        "label_operadoras = label_encoder.fit_transform(df.OPERADORA)"
      ],
      "metadata": {
        "id": "0js4d6UXwZIa"
      },
      "execution_count": null,
      "outputs": []
    },
    {
      "cell_type": "code",
      "source": [
        "df['Operadoras'] = label_operadoras\n",
        "df['Operadoras'].unique()"
      ],
      "metadata": {
        "colab": {
          "base_uri": "https://localhost:8080/"
        },
        "id": "4efmx8OafdoK",
        "outputId": "a83bcf5c-3621-4005-9160-0a40e5d8682d"
      },
      "execution_count": null,
      "outputs": [
        {
          "output_type": "execute_result",
          "data": {
            "text/plain": [
              "array([2, 4, 5, 6, 7, 8, 9, 0, 1, 3])"
            ]
          },
          "metadata": {},
          "execution_count": 179
        }
      ]
    },
    {
      "cell_type": "markdown",
      "source": [
        "Estados"
      ],
      "metadata": {
        "id": "kkSGjKS4kxcD"
      }
    },
    {
      "cell_type": "code",
      "source": [
        "label_estados = label_encoder.fit_transform(df.ESTADO)"
      ],
      "metadata": {
        "id": "jD4H2qXrfr3n"
      },
      "execution_count": null,
      "outputs": []
    },
    {
      "cell_type": "code",
      "source": [
        "df['Estados'] = label_estados\n",
        "df['Estados'].unique()"
      ],
      "metadata": {
        "colab": {
          "base_uri": "https://localhost:8080/"
        },
        "id": "tpSz4cL3fy4m",
        "outputId": "57bcea96-e106-4e57-e361-e816b864069e"
      },
      "execution_count": null,
      "outputs": [
        {
          "output_type": "execute_result",
          "data": {
            "text/plain": [
              "array([ 6, 24,  5, 18, 16,  2,  3, 22, 10,  4, 11,  7, 17,  8, 12, 21,  1,\n",
              "        9, 15, 20, 25, 14, 23,  0, 13, 19])"
            ]
          },
          "metadata": {},
          "execution_count": 181
        }
      ]
    },
    {
      "cell_type": "markdown",
      "source": [
        "Visualizações"
      ],
      "metadata": {
        "id": "Un_d__flTGap"
      }
    },
    {
      "cell_type": "code",
      "source": [
        "contagem_operadora = df.groupby('OPERADORA')['F3'].value_counts().unstack().fillna(0)"
      ],
      "metadata": {
        "id": "Dls_Q384ccIe"
      },
      "execution_count": null,
      "outputs": []
    },
    {
      "cell_type": "code",
      "source": [
        "contagem_operadora.plot(kind='bar', stacked=True, color=['red', 'green'])\n",
        "\n",
        "# Adicionando título e rótulos aos eixos\n",
        "plt.title('Utilização do Serviço de Reparo por Operadora')\n",
        "plt.xlabel('Operadora')\n",
        "plt.ylabel('Quantidade')\n",
        "\n",
        "# Exibindo o gráfico\n",
        "plt.show()"
      ],
      "metadata": {
        "colab": {
          "base_uri": "https://localhost:8080/",
          "height": 542
        },
        "id": "-6Dar9IkeXmJ",
        "outputId": "7594bb40-0bbc-4cdf-dc8d-079d556479a2"
      },
      "execution_count": null,
      "outputs": [
        {
          "output_type": "display_data",
          "data": {
            "text/plain": [
              "<Figure size 640x480 with 1 Axes>"
            ],
            "image/png": "[encoded data removed]"
          },
          "metadata": {}
        }
      ]
    },
    {
      "cell_type": "code",
      "source": [
        "contagem_estado = df.groupby('ESTADO')['F3'].value_counts().unstack().fillna(0)"
      ],
      "metadata": {
        "id": "qkKaqgpVf_Cm"
      },
      "execution_count": null,
      "outputs": []
    },
    {
      "cell_type": "code",
      "source": [
        "contagem_estado.plot(kind='bar', stacked=True, color=['red', 'green'])\n",
        "\n",
        "# Adicionando título e rótulos aos eixos\n",
        "plt.title('Utilização do Serviço de Reparo por Estado')\n",
        "plt.xlabel('Estado')\n",
        "plt.ylabel('Quantidade')\n",
        "\n",
        "# Exibindo o gráfico\n",
        "plt.show()"
      ],
      "metadata": {
        "colab": {
          "base_uri": "https://localhost:8080/",
          "height": 480
        },
        "id": "QraSF2fVgCdl",
        "outputId": "1b0458ec-a73e-4a05-a23d-29f319a4ef30"
      },
      "execution_count": null,
      "outputs": [
        {
          "output_type": "display_data",
          "data": {
            "text/plain": [
              "<Figure size 640x480 with 1 Axes>"
            ],
            "image/png": "[encoded data removed]"
          },
          "metadata": {}
        }
      ]
    },
    {
      "cell_type": "code",
      "source": [
        "contagem_tv = df.groupby('OPERADORA')['G2_1'].value_counts().unstack().fillna(0)"
      ],
      "metadata": {
        "id": "Hy-muGnX4Ad0"
      },
      "execution_count": null,
      "outputs": []
    },
    {
      "cell_type": "code",
      "source": [
        "contagem_tv.plot(kind ='bar', stacked=True,color=['blue','red'])\n",
        "\n",
        "# Adicionando título e rótulos aos eixos\n",
        "plt.title('Utilização do Serviço de Tv por Operadora')\n",
        "plt.xlabel('Operadora')\n",
        "plt.ylabel('Quantidade')\n",
        "\n",
        "# Exibindo o gráfico\n",
        "plt.show()"
      ],
      "metadata": {
        "colab": {
          "base_uri": "https://localhost:8080/",
          "height": 542
        },
        "id": "V-FILsDJ5lkf",
        "outputId": "c35712f2-6ae8-4639-9fb6-bb48dd62ea7b"
      },
      "execution_count": null,
      "outputs": [
        {
          "output_type": "display_data",
          "data": {
            "text/plain": [
              "<Figure size 640x480 with 1 Axes>"
            ],
            "image/png": "[encoded data removed]"
          },
          "metadata": {}
        }
      ]
    },
    {
      "cell_type": "code",
      "source": [
        "contagem_tmovel = df.groupby('OPERADORA')['G2_2'].value_counts().unstack().fillna(0)"
      ],
      "metadata": {
        "id": "L6T2QP-i_AVs"
      },
      "execution_count": null,
      "outputs": []
    },
    {
      "cell_type": "code",
      "source": [
        "contagem_tmovel.plot(kind ='bar', stacked=True,color=['blue','red'])\n",
        "\n",
        "# Adicionando título e rótulos aos eixos\n",
        "plt.title('Utilização do Serviço de Telefonia Móvel por Operadora')\n",
        "plt.xlabel('Operadora')\n",
        "plt.ylabel('Quantidade')\n",
        "\n",
        "# Exibindo o gráfico\n",
        "plt.show()"
      ],
      "metadata": {
        "colab": {
          "base_uri": "https://localhost:8080/",
          "height": 542
        },
        "id": "sawG9xjW_Dtb",
        "outputId": "633e1093-5346-4b9a-fc4b-54be5a160bb4"
      },
      "execution_count": null,
      "outputs": [
        {
          "output_type": "display_data",
          "data": {
            "text/plain": [
              "<Figure size 640x480 with 1 Axes>"
            ],
            "image/png": "[encoded data removed]"
          },
          "metadata": {}
        }
      ]
    },
    {
      "cell_type": "code",
      "source": [
        "contagem_tfixo = df.groupby('OPERADORA')['G2_3'].value_counts().unstack().fillna(0)"
      ],
      "metadata": {
        "id": "7k_6DcKp_D4B"
      },
      "execution_count": null,
      "outputs": []
    },
    {
      "cell_type": "code",
      "source": [
        "contagem_tfixo.plot(kind ='bar', stacked=True,color=['blue','red'])\n",
        "\n",
        "# Adicionando título e rótulos aos eixos\n",
        "plt.title('Utilização do Serviço de Telefonia Fixa por Operadora')\n",
        "plt.xlabel('Operadora')\n",
        "plt.ylabel('Quantidade')\n",
        "\n",
        "# Exibindo o gráfico\n",
        "plt.show()"
      ],
      "metadata": {
        "colab": {
          "base_uri": "https://localhost:8080/",
          "height": 542
        },
        "id": "pdfgdx7Y_GNc",
        "outputId": "898997ba-0250-409d-ebb3-35825a99c645"
      },
      "execution_count": null,
      "outputs": [
        {
          "output_type": "display_data",
          "data": {
            "text/plain": [
              "<Figure size 640x480 with 1 Axes>"
            ],
            "image/png": "[encoded data removed]"
          },
          "metadata": {}
        }
      ]
    },
    {
      "cell_type": "markdown",
      "source": [
        "# Legendas\n",
        "\n",
        "\n",
        "---\n",
        "\n",
        "\n",
        "---\n",
        "\n",
        "\n",
        "\n",
        "* Q5 - Entrevistado é Responsável pelo Pagamento (1 - S/2 - N)\n",
        "* Q7 - Idade\n",
        "* Q7a - Faixa Etária\n",
        "* Q8 - Sexo (1 - M / 2 - F)\n",
        "* J1 - Satisfação Geral\n",
        "* B1_1 - Facilidade de Atendimento de Planos e Serviços Contratados\n",
        "* B1_2 - Comprometimento da Operadora em Cumprir os prometidos\n",
        "* C1_1 - Cobrança de Valores\n",
        "* C1_2 - Capacidade de Manter a Conexão sem quedas\n",
        "* C1_3 - Velocidade de Navegação\n",
        "* D1_1 - Cobrança de Valores de acordo com o Contratado\n",
        "* D1_2 - Clareza nas informações da Conta\n",
        "* A1_1 - Utilizou o atendimento Telefônico\n",
        "* A2_1 - Tempo de espera\n",
        "* A2_2 - Necessidade de repetir a demanda\n",
        "* A2_3 - Capacidade de esclarecimento dos atendentes\n",
        "* A3 - Qualidade do Atendimento Telefônico\n",
        "* E7 - Entrou em Contato sobre Problemas de Funcionamento\n",
        "* E8 - Nota atribuída ao Suporte\n",
        "* F3 - Usuário solicitou Reparo na Internet\n",
        "* F4_1 - Notas do tempo entre solicitação do Reparo e Visita técnica\n",
        "* F4_2 - Cumprimento do prazo do acordo\n",
        "* F4_3 - Qualidade do reparo\n",
        "* G2_1 - Contrato Inclui TV por Assinatura\n",
        "* G2_2 - Contrato Inclui Telefonia Móvel\n",
        "* G2_3 - Contrato Inclui Telefonia Fixa\n",
        "* H1 - Quantidade de Residentes que contribuem com a Renda\n",
        "* H2 - Renda Mensal Familiar\n",
        "* H2a - Faixa de Renda\n",
        "---\n",
        "* Operadoras - Coluna das Operados pós LabelEncoder\n",
        "* Estados - Coluna dos Estados pós LabelEncoder\n",
        "* Churn - Cliente saiu do contrato (1 - S/0 - N)\n",
        "\n"
      ],
      "metadata": {
        "id": "8HTiE_YjgdT8"
      }
    },
    {
      "cell_type": "markdown",
      "source": [
        "# Criação do Churn"
      ],
      "metadata": {
        "id": "QnshXZIJUmYS"
      }
    },
    {
      "cell_type": "code",
      "source": [
        "from sklearn.metrics import mean_squared_error\n",
        "from sklearn.metrics import classification_report\n",
        "from sklearn.tree import DecisionTreeClassifier\n",
        "from sklearn.linear_model import LinearRegression\n",
        "from sklearn.model_selection import train_test_split\n",
        "from sklearn.linear_model import LogisticRegression\n",
        "import pandas as pd\n",
        "import matplotlib.pyplot as plt\n",
        "import seaborn as sns\n",
        "import numpy as np"
      ],
      "metadata": {
        "id": "m_IiMEJ3Z1VL"
      },
      "execution_count": null,
      "outputs": []
    },
    {
      "cell_type": "code",
      "source": [
        "url = \"https://raw.githubusercontent.com/mheloisagalvao/projeto-ml/main/databaseChurnGold.csv\""
      ],
      "metadata": {
        "id": "AtpgY5ka2m64"
      },
      "execution_count": null,
      "outputs": []
    },
    {
      "cell_type": "code",
      "source": [
        "df = pd.read_csv(url)"
      ],
      "metadata": {
        "id": "LNCLfQPm2oZ6"
      },
      "execution_count": null,
      "outputs": []
    },
    {
      "cell_type": "code",
      "source": [
        "df.head(7)"
      ],
      "metadata": {
        "id": "iH0PUwNfZ_vU",
        "outputId": "1f661bd1-869a-4be0-e7d9-3ed731282974",
        "colab": {
          "base_uri": "https://localhost:8080/",
          "height": 318
        }
      },
      "execution_count": null,
      "outputs": [
        {
          "output_type": "execute_result",
          "data": {
            "text/plain": [
              "   OPERADORA ESTADO  Q5  Q7  Q7a  Q8  J1  B1_1  B1_2  C1_1  ...  G2_1  G2_2  \\\n",
              "0  CLARO/NET     ES   1  76    9   2   6     6     6     8  ...     2     1   \n",
              "1  CLARO/NET     SP   2  63    8   1   8     5     5     9  ...     1     1   \n",
              "2  CLARO/NET     SP   1  56    8   2   0     0     0     1  ...     1     1   \n",
              "3         OI     DF   1  52    8   1  10    10    10    10  ...     1     1   \n",
              "4         OI     RN   1  53    8   1   5    10     0     0  ...     2     2   \n",
              "5  SERCOMTEL     PR   1  56    8   1   8     8     9     7  ...     2     1   \n",
              "6        SKY     AM   1  37    6   1   0     5     5     0  ...     2     2   \n",
              "\n",
              "   G2_3  H1      H2  H2a         PESO  Operadoras  Estados  Churn  \n",
              "0     2  99  999998   99  0,630163929           2        6      0  \n",
              "1     1   2    3000    2  19,63292645           2       24      0  \n",
              "2     1   2   10000    4  19,63292645           2       24      1  \n",
              "3     1   1    1300    1  0,437668628           4        5      0  \n",
              "4     1   1    1040    1  0,093547923           4       18      0  \n",
              "5     1   1  999998   99  0,302190147           5       16      0  \n",
              "6     2   2    1045    1  0,133954269           6        2      1  \n",
              "\n",
              "[7 rows x 35 columns]"
            ],
            "text/html": [
              "\n",
              "  <div id=\"df-10306ad4-b572-4564-9506-a8774fa03c00\" class=\"colab-df-container\">\n",
              "    <div>\n",
              "<style scoped>\n",
              "    .dataframe tbody tr th:only-of-type {\n",
              "        vertical-align: middle;\n",
              "    }\n",
              "\n",
              "    .dataframe tbody tr th {\n",
              "        vertical-align: top;\n",
              "    }\n",
              "\n",
              "    .dataframe thead th {\n",
              "        text-align: right;\n",
              "    }\n",
              "</style>\n",
              "<table border=\"1\" class=\"dataframe\">\n",
              "  <thead>\n",
              "    <tr style=\"text-align: right;\">\n",
              "      <th></th>\n",
              "      <th>OPERADORA</th>\n",
              "      <th>ESTADO</th>\n",
              "      <th>Q5</th>\n",
              "      <th>Q7</th>\n",
              "      <th>Q7a</th>\n",
              "      <th>Q8</th>\n",
              "      <th>J1</th>\n",
              "      <th>B1_1</th>\n",
              "      <th>B1_2</th>\n",
              "      <th>C1_1</th>\n",
              "      <th>...</th>\n",
              "      <th>G2_1</th>\n",
              "      <th>G2_2</th>\n",
              "      <th>G2_3</th>\n",
              "      <th>H1</th>\n",
              "      <th>H2</th>\n",
              "      <th>H2a</th>\n",
              "      <th>PESO</th>\n",
              "      <th>Operadoras</th>\n",
              "      <th>Estados</th>\n",
              "      <th>Churn</th>\n",
              "    </tr>\n",
              "  </thead>\n",
              "  <tbody>\n",
              "    <tr>\n",
              "      <th>0</th>\n",
              "      <td>CLARO/NET</td>\n",
              "      <td>ES</td>\n",
              "      <td>1</td>\n",
              "      <td>76</td>\n",
              "      <td>9</td>\n",
              "      <td>2</td>\n",
              "      <td>6</td>\n",
              "      <td>6</td>\n",
              "      <td>6</td>\n",
              "      <td>8</td>\n",
              "      <td>...</td>\n",
              "      <td>2</td>\n",
              "      <td>1</td>\n",
              "      <td>2</td>\n",
              "      <td>99</td>\n",
              "      <td>999998</td>\n",
              "      <td>99</td>\n",
              "      <td>0,630163929</td>\n",
              "      <td>2</td>\n",
              "      <td>6</td>\n",
              "      <td>0</td>\n",
              "    </tr>\n",
              "    <tr>\n",
              "      <th>1</th>\n",
              "      <td>CLARO/NET</td>\n",
              "      <td>SP</td>\n",
              "      <td>2</td>\n",
              "      <td>63</td>\n",
              "      <td>8</td>\n",
              "      <td>1</td>\n",
              "      <td>8</td>\n",
              "      <td>5</td>\n",
              "      <td>5</td>\n",
              "      <td>9</td>\n",
              "      <td>...</td>\n",
              "      <td>1</td>\n",
              "      <td>1</td>\n",
              "      <td>1</td>\n",
              "      <td>2</td>\n",
              "      <td>3000</td>\n",
              "      <td>2</td>\n",
              "      <td>19,63292645</td>\n",
              "      <td>2</td>\n",
              "      <td>24</td>\n",
              "      <td>0</td>\n",
              "    </tr>\n",
              "    <tr>\n",
              "      <th>2</th>\n",
              "      <td>CLARO/NET</td>\n",
              "      <td>SP</td>\n",
              "      <td>1</td>\n",
              "      <td>56</td>\n",
              "      <td>8</td>\n",
              "      <td>2</td>\n",
              "      <td>0</td>\n",
              "      <td>0</td>\n",
              "      <td>0</td>\n",
              "      <td>1</td>\n",
              "      <td>...</td>\n",
              "      <td>1</td>\n",
              "      <td>1</td>\n",
              "      <td>1</td>\n",
              "      <td>2</td>\n",
              "      <td>10000</td>\n",
              "      <td>4</td>\n",
              "      <td>19,63292645</td>\n",
              "      <td>2</td>\n",
              "      <td>24</td>\n",
              "      <td>1</td>\n",
              "    </tr>\n",
              "    <tr>\n",
              "      <th>3</th>\n",
              "      <td>OI</td>\n",
              "      <td>DF</td>\n",
              "      <td>1</td>\n",
              "      <td>52</td>\n",
              "      <td>8</td>\n",
              "      <td>1</td>\n",
              "      <td>10</td>\n",
              "      <td>10</td>\n",
              "      <td>10</td>\n",
              "      <td>10</td>\n",
              "      <td>...</td>\n",
              "      <td>1</td>\n",
              "      <td>1</td>\n",
              "      <td>1</td>\n",
              "      <td>1</td>\n",
              "      <td>1300</td>\n",
              "      <td>1</td>\n",
              "      <td>0,437668628</td>\n",
              "      <td>4</td>\n",
              "      <td>5</td>\n",
              "      <td>0</td>\n",
              "    </tr>\n",
              "    <tr>\n",
              "      <th>4</th>\n",
              "      <td>OI</td>\n",
              "      <td>RN</td>\n",
              "      <td>1</td>\n",
              "      <td>53</td>\n",
              "      <td>8</td>\n",
              "      <td>1</td>\n",
              "      <td>5</td>\n",
              "      <td>10</td>\n",
              "      <td>0</td>\n",
              "      <td>0</td>\n",
              "      <td>...</td>\n",
              "      <td>2</td>\n",
              "      <td>2</td>\n",
              "      <td>1</td>\n",
              "      <td>1</td>\n",
              "      <td>1040</td>\n",
              "      <td>1</td>\n",
              "      <td>0,093547923</td>\n",
              "      <td>4</td>\n",
              "      <td>18</td>\n",
              "      <td>0</td>\n",
              "    </tr>\n",
              "    <tr>\n",
              "      <th>5</th>\n",
              "      <td>SERCOMTEL</td>\n",
              "      <td>PR</td>\n",
              "      <td>1</td>\n",
              "      <td>56</td>\n",
              "      <td>8</td>\n",
              "      <td>1</td>\n",
              "      <td>8</td>\n",
              "      <td>8</td>\n",
              "      <td>9</td>\n",
              "      <td>7</td>\n",
              "      <td>...</td>\n",
              "      <td>2</td>\n",
              "      <td>1</td>\n",
              "      <td>1</td>\n",
              "      <td>1</td>\n",
              "      <td>999998</td>\n",
              "      <td>99</td>\n",
              "      <td>0,302190147</td>\n",
              "      <td>5</td>\n",
              "      <td>16</td>\n",
              "      <td>0</td>\n",
              "    </tr>\n",
              "    <tr>\n",
              "      <th>6</th>\n",
              "      <td>SKY</td>\n",
              "      <td>AM</td>\n",
              "      <td>1</td>\n",
              "      <td>37</td>\n",
              "      <td>6</td>\n",
              "      <td>1</td>\n",
              "      <td>0</td>\n",
              "      <td>5</td>\n",
              "      <td>5</td>\n",
              "      <td>0</td>\n",
              "      <td>...</td>\n",
              "      <td>2</td>\n",
              "      <td>2</td>\n",
              "      <td>2</td>\n",
              "      <td>2</td>\n",
              "      <td>1045</td>\n",
              "      <td>1</td>\n",
              "      <td>0,133954269</td>\n",
              "      <td>6</td>\n",
              "      <td>2</td>\n",
              "      <td>1</td>\n",
              "    </tr>\n",
              "  </tbody>\n",
              "</table>\n",
              "<p>7 rows × 35 columns</p>\n",
              "</div>\n",
              "    <div class=\"colab-df-buttons\">\n",
              "\n",
              "  <div class=\"colab-df-container\">\n",
              "    <button class=\"colab-df-convert\" onclick=\"convertToInteractive('df-10306ad4-b572-4564-9506-a8774fa03c00')\"\n",
              "            title=\"Convert this dataframe to an interactive table.\"\n",
              "            style=\"display:none;\">\n",
              "\n",
              "  <svg xmlns=\"http://www.w3.org/2000/svg\" height=\"24px\" viewBox=\"0 -960 960 960\">\n",
              "    <path d=\"M120-120v-720h720v720H120Zm60-500h600v-160H180v160Zm220 220h160v-160H400v160Zm0 220h160v-160H400v160ZM180-400h160v-160H180v160Zm440 0h160v-160H620v160ZM180-180h160v-160H180v160Zm440 0h160v-160H620v160Z\"/>\n",
              "  </svg>\n",
              "    </button>\n",
              "\n",
              "  <style>\n",
              "    .colab-df-container {\n",
              "      display:flex;\n",
              "      gap: 12px;\n",
              "    }\n",
              "\n",
              "    .colab-df-convert {\n",
              "      background-color: #E8F0FE;\n",
              "      border: none;\n",
              "      border-radius: 50%;\n",
              "      cursor: pointer;\n",
              "      display: none;\n",
              "      fill: #1967D2;\n",
              "      height: 32px;\n",
              "      padding: 0 0 0 0;\n",
              "      width: 32px;\n",
              "    }\n",
              "\n",
              "    .colab-df-convert:hover {\n",
              "      background-color: #E2EBFA;\n",
              "      box-shadow: 0px 1px 2px rgba(60, 64, 67, 0.3), 0px 1px 3px 1px rgba(60, 64, 67, 0.15);\n",
              "      fill: #174EA6;\n",
              "    }\n",
              "\n",
              "    .colab-df-buttons div {\n",
              "      margin-bottom: 4px;\n",
              "    }\n",
              "\n",
              "    [theme=dark] .colab-df-convert {\n",
              "      background-color: #3B4455;\n",
              "      fill: #D2E3FC;\n",
              "    }\n",
              "\n",
              "    [theme=dark] .colab-df-convert:hover {\n",
              "      background-color: #434B5C;\n",
              "      box-shadow: 0px 1px 3px 1px rgba(0, 0, 0, 0.15);\n",
              "      filter: drop-shadow(0px 1px 2px rgba(0, 0, 0, 0.3));\n",
              "      fill: #FFFFFF;\n",
              "    }\n",
              "  </style>\n",
              "\n",
              "    <script>\n",
              "      const buttonEl =\n",
              "        document.querySelector('#df-10306ad4-b572-4564-9506-a8774fa03c00 button.colab-df-convert');\n",
              "      buttonEl.style.display =\n",
              "        google.colab.kernel.accessAllowed ? 'block' : 'none';\n",
              "\n",
              "      async function convertToInteractive(key) {\n",
              "        const element = document.querySelector('#df-10306ad4-b572-4564-9506-a8774fa03c00');\n",
              "        const dataTable =\n",
              "          await google.colab.kernel.invokeFunction('convertToInteractive',\n",
              "                                                    [key], {});\n",
              "        if (!dataTable) return;\n",
              "\n",
              "        const docLinkHtml = 'Like what you see? Visit the ' +\n",
              "          '<a target=\"_blank\" href=https://colab.research.google.com/notebooks/data_table.ipynb>data table notebook</a>'\n",
              "          + ' to learn more about interactive tables.';\n",
              "        element.innerHTML = '';\n",
              "        dataTable['output_type'] = 'display_data';\n",
              "        await google.colab.output.renderOutput(dataTable, element);\n",
              "        const docLink = document.createElement('div');\n",
              "        docLink.innerHTML = docLinkHtml;\n",
              "        element.appendChild(docLink);\n",
              "      }\n",
              "    </script>\n",
              "  </div>\n",
              "\n",
              "\n",
              "<div id=\"df-b4204048-18d1-4258-946d-e22ffc4596cb\">\n",
              "  <button class=\"colab-df-quickchart\" onclick=\"quickchart('df-b4204048-18d1-4258-946d-e22ffc4596cb')\"\n",
              "            title=\"Suggest charts\"\n",
              "            style=\"display:none;\">\n",
              "\n",
              "<svg xmlns=\"http://www.w3.org/2000/svg\" height=\"24px\"viewBox=\"0 0 24 24\"\n",
              "     width=\"24px\">\n",
              "    <g>\n",
              "        <path d=\"M19 3H5c-1.1 0-2 .9-2 2v14c0 1.1.9 2 2 2h14c1.1 0 2-.9 2-2V5c0-1.1-.9-2-2-2zM9 17H7v-7h2v7zm4 0h-2V7h2v10zm4 0h-2v-4h2v4z\"/>\n",
              "    </g>\n",
              "</svg>\n",
              "  </button>\n",
              "\n",
              "<style>\n",
              "  .colab-df-quickchart {\n",
              "      --bg-color: #E8F0FE;\n",
              "      --fill-color: #1967D2;\n",
              "      --hover-bg-color: #E2EBFA;\n",
              "      --hover-fill-color: #174EA6;\n",
              "      --disabled-fill-color: #AAA;\n",
              "      --disabled-bg-color: #DDD;\n",
              "  }\n",
              "\n",
              "  [theme=dark] .colab-df-quickchart {\n",
              "      --bg-color: #3B4455;\n",
              "      --fill-color: #D2E3FC;\n",
              "      --hover-bg-color: #434B5C;\n",
              "      --hover-fill-color: #FFFFFF;\n",
              "      --disabled-bg-color: #3B4455;\n",
              "      --disabled-fill-color: #666;\n",
              "  }\n",
              "\n",
              "  .colab-df-quickchart {\n",
              "    background-color: var(--bg-color);\n",
              "    border: none;\n",
              "    border-radius: 50%;\n",
              "    cursor: pointer;\n",
              "    display: none;\n",
              "    fill: var(--fill-color);\n",
              "    height: 32px;\n",
              "    padding: 0;\n",
              "    width: 32px;\n",
              "  }\n",
              "\n",
              "  .colab-df-quickchart:hover {\n",
              "    background-color: var(--hover-bg-color);\n",
              "    box-shadow: 0 1px 2px rgba(60, 64, 67, 0.3), 0 1px 3px 1px rgba(60, 64, 67, 0.15);\n",
              "    fill: var(--button-hover-fill-color);\n",
              "  }\n",
              "\n",
              "  .colab-df-quickchart-complete:disabled,\n",
              "  .colab-df-quickchart-complete:disabled:hover {\n",
              "    background-color: var(--disabled-bg-color);\n",
              "    fill: var(--disabled-fill-color);\n",
              "    box-shadow: none;\n",
              "  }\n",
              "\n",
              "  .colab-df-spinner {\n",
              "    border: 2px solid var(--fill-color);\n",
              "    border-color: transparent;\n",
              "    border-bottom-color: var(--fill-color);\n",
              "    animation:\n",
              "      spin 1s steps(1) infinite;\n",
              "  }\n",
              "\n",
              "  @keyframes spin {\n",
              "    0% {\n",
              "      border-color: transparent;\n",
              "      border-bottom-color: var(--fill-color);\n",
              "      border-left-color: var(--fill-color);\n",
              "    }\n",
              "    20% {\n",
              "      border-color: transparent;\n",
              "      border-left-color: var(--fill-color);\n",
              "      border-top-color: var(--fill-color);\n",
              "    }\n",
              "    30% {\n",
              "      border-color: transparent;\n",
              "      border-left-color: var(--fill-color);\n",
              "      border-top-color: var(--fill-color);\n",
              "      border-right-color: var(--fill-color);\n",
              "    }\n",
              "    40% {\n",
              "      border-color: transparent;\n",
              "      border-right-color: var(--fill-color);\n",
              "      border-top-color: var(--fill-color);\n",
              "    }\n",
              "    60% {\n",
              "      border-color: transparent;\n",
              "      border-right-color: var(--fill-color);\n",
              "    }\n",
              "    80% {\n",
              "      border-color: transparent;\n",
              "      border-right-color: var(--fill-color);\n",
              "      border-bottom-color: var(--fill-color);\n",
              "    }\n",
              "    90% {\n",
              "      border-color: transparent;\n",
              "      border-bottom-color: var(--fill-color);\n",
              "    }\n",
              "  }\n",
              "</style>\n",
              "\n",
              "  <script>\n",
              "    async function quickchart(key) {\n",
              "      const quickchartButtonEl =\n",
              "        document.querySelector('#' + key + ' button');\n",
              "      quickchartButtonEl.disabled = true;  // To prevent multiple clicks.\n",
              "      quickchartButtonEl.classList.add('colab-df-spinner');\n",
              "      try {\n",
              "        const charts = await google.colab.kernel.invokeFunction(\n",
              "            'suggestCharts', [key], {});\n",
              "      } catch (error) {\n",
              "        console.error('Error during call to suggestCharts:', error);\n",
              "      }\n",
              "      quickchartButtonEl.classList.remove('colab-df-spinner');\n",
              "      quickchartButtonEl.classList.add('colab-df-quickchart-complete');\n",
              "    }\n",
              "    (() => {\n",
              "      let quickchartButtonEl =\n",
              "        document.querySelector('#df-b4204048-18d1-4258-946d-e22ffc4596cb button');\n",
              "      quickchartButtonEl.style.display =\n",
              "        google.colab.kernel.accessAllowed ? 'block' : 'none';\n",
              "    })();\n",
              "  </script>\n",
              "</div>\n",
              "\n",
              "    </div>\n",
              "  </div>\n"
            ],
            "application/vnd.google.colaboratory.intrinsic+json": {
              "type": "dataframe",
              "variable_name": "df"
            }
          },
          "metadata": {},
          "execution_count": 7
        }
      ]
    },
    {
      "cell_type": "markdown",
      "source": [
        "Contagem de Churn por Operadora"
      ],
      "metadata": {
        "id": "2RqyHaKn4oWX"
      }
    },
    {
      "cell_type": "code",
      "source": [
        "contagem_churn = df.groupby('OPERADORA')['Churn'].value_counts().unstack().fillna(0)"
      ],
      "metadata": {
        "id": "INc9637CaDEn"
      },
      "execution_count": null,
      "outputs": []
    },
    {
      "cell_type": "markdown",
      "source": [
        "Visualização da Quantidade de Churn por Operadora"
      ],
      "metadata": {
        "id": "rzCUXfEZ4sMw"
      }
    },
    {
      "cell_type": "code",
      "source": [
        "contagem_churn.plot(kind='bar', color=['blue', 'yellow'])\n",
        "\n",
        "plt.title('Quantidade de Churn por Operadora')\n",
        "plt.xlabel('Operadora')\n",
        "plt.ylabel('Churn')\n",
        "\n",
        "plt.show()"
      ],
      "metadata": {
        "id": "XsVxU3oCaEio",
        "outputId": "50b77748-117b-4605-9b8c-cc3a14cadeeb",
        "colab": {
          "base_uri": "https://localhost:8080/",
          "height": 542
        }
      },
      "execution_count": null,
      "outputs": [
        {
          "output_type": "display_data",
          "data": {
            "text/plain": [
              "<Figure size 640x480 with 1 Axes>"
            ],
            "image/png": "[encoded data removed]"
          },
          "metadata": {}
        }
      ]
    },
    {
      "cell_type": "markdown",
      "source": [
        "Pré-processamento e limpeza dos dados"
      ],
      "metadata": {
        "id": "CW2fREvG3xDC"
      }
    },
    {
      "cell_type": "code",
      "source": [
        "df_clean = df.drop(['OPERADORA','ESTADO','PESO'],axis =1)"
      ],
      "metadata": {
        "id": "aubV4wnwaGdw"
      },
      "execution_count": null,
      "outputs": []
    },
    {
      "cell_type": "markdown",
      "source": [
        "Resultados"
      ],
      "metadata": {
        "id": "BNifQHogX3Sj"
      }
    },
    {
      "cell_type": "code",
      "source": [
        "X = df_clean\n",
        "y = df['Churn']\n",
        "\n",
        "# Dividir os dados em conjuntos de treino e teste\n",
        "X_train, X_test, y_train, y_test = train_test_split(X, y, test_size=0.3, random_state=42)\n",
        "\n",
        "# Treinar o modelo de regressão logística\n",
        "modelLr = LogisticRegression(max_iter=1000)\n",
        "modelLr.fit(X_train, y_train)\n",
        "\n",
        "# Obter coeficientes\n",
        "coefficients = pd.DataFrame(modelLr.coef_[0], index=X.columns, columns=['Coefficient'])\n",
        "coefficients.sort_values(by='Coefficient', ascending=False)"
      ],
      "metadata": {
        "id": "Jmo4lTnraH6h",
        "outputId": "8f1f8d4b-10ea-450d-8247-0c8a3ac35512",
        "colab": {
          "base_uri": "https://localhost:8080/",
          "height": 1000
        }
      },
      "execution_count": null,
      "outputs": [
        {
          "output_type": "execute_result",
          "data": {
            "text/plain": [
              "             Coefficient\n",
              "Q7          5.176622e-02\n",
              "Churn       3.399597e-02\n",
              "F4_1        2.326910e-02\n",
              "A2_3        1.711832e-02\n",
              "H1          1.354277e-02\n",
              "A1_1        1.157586e-02\n",
              "Q7a         7.480944e-03\n",
              "A2_2        2.395419e-03\n",
              "E7          5.197617e-07\n",
              "H2          5.144493e-07\n",
              "Q8         -3.077099e-05\n",
              "F3         -2.706024e-04\n",
              "G2_3       -5.726459e-04\n",
              "G2_1       -8.080581e-04\n",
              "G2_2       -3.299518e-03\n",
              "Q5         -3.954020e-03\n",
              "F4_2       -5.467917e-03\n",
              "H2a        -6.408710e-03\n",
              "Operadoras -7.501977e-03\n",
              "Estados    -9.069407e-03\n",
              "A2_1       -1.039218e-02\n",
              "E8         -1.079173e-02\n",
              "F4_3       -1.159479e-02\n",
              "A3         -2.050145e-02\n",
              "D1_2       -3.310824e-02\n",
              "D1_1       -4.625268e-02\n",
              "C1_2       -1.115394e-01\n",
              "B1_1       -1.190900e-01\n",
              "C1_1       -1.213054e-01\n",
              "C1_3       -1.386284e-01\n",
              "B1_2       -1.509892e-01\n",
              "J1         -1.829295e-01"
            ],
            "text/html": [
              "\n",
              "  <div id=\"df-81936c81-d0ea-43a7-b6e6-05a5021518f3\" class=\"colab-df-container\">\n",
              "    <div>\n",
              "<style scoped>\n",
              "    .dataframe tbody tr th:only-of-type {\n",
              "        vertical-align: middle;\n",
              "    }\n",
              "\n",
              "    .dataframe tbody tr th {\n",
              "        vertical-align: top;\n",
              "    }\n",
              "\n",
              "    .dataframe thead th {\n",
              "        text-align: right;\n",
              "    }\n",
              "</style>\n",
              "<table border=\"1\" class=\"dataframe\">\n",
              "  <thead>\n",
              "    <tr style=\"text-align: right;\">\n",
              "      <th></th>\n",
              "      <th>Coefficient</th>\n",
              "    </tr>\n",
              "  </thead>\n",
              "  <tbody>\n",
              "    <tr>\n",
              "      <th>Q7</th>\n",
              "      <td>5.176622e-02</td>\n",
              "    </tr>\n",
              "    <tr>\n",
              "      <th>Churn</th>\n",
              "      <td>3.399597e-02</td>\n",
              "    </tr>\n",
              "    <tr>\n",
              "      <th>F4_1</th>\n",
              "      <td>2.326910e-02</td>\n",
              "    </tr>\n",
              "    <tr>\n",
              "      <th>A2_3</th>\n",
              "      <td>1.711832e-02</td>\n",
              "    </tr>\n",
              "    <tr>\n",
              "      <th>H1</th>\n",
              "      <td>1.354277e-02</td>\n",
              "    </tr>\n",
              "    <tr>\n",
              "      <th>A1_1</th>\n",
              "      <td>1.157586e-02</td>\n",
              "    </tr>\n",
              "    <tr>\n",
              "      <th>Q7a</th>\n",
              "      <td>7.480944e-03</td>\n",
              "    </tr>\n",
              "    <tr>\n",
              "      <th>A2_2</th>\n",
              "      <td>2.395419e-03</td>\n",
              "    </tr>\n",
              "    <tr>\n",
              "      <th>E7</th>\n",
              "      <td>5.197617e-07</td>\n",
              "    </tr>\n",
              "    <tr>\n",
              "      <th>H2</th>\n",
              "      <td>5.144493e-07</td>\n",
              "    </tr>\n",
              "    <tr>\n",
              "      <th>Q8</th>\n",
              "      <td>-3.077099e-05</td>\n",
              "    </tr>\n",
              "    <tr>\n",
              "      <th>F3</th>\n",
              "      <td>-2.706024e-04</td>\n",
              "    </tr>\n",
              "    <tr>\n",
              "      <th>G2_3</th>\n",
              "      <td>-5.726459e-04</td>\n",
              "    </tr>\n",
              "    <tr>\n",
              "      <th>G2_1</th>\n",
              "      <td>-8.080581e-04</td>\n",
              "    </tr>\n",
              "    <tr>\n",
              "      <th>G2_2</th>\n",
              "      <td>-3.299518e-03</td>\n",
              "    </tr>\n",
              "    <tr>\n",
              "      <th>Q5</th>\n",
              "      <td>-3.954020e-03</td>\n",
              "    </tr>\n",
              "    <tr>\n",
              "      <th>F4_2</th>\n",
              "      <td>-5.467917e-03</td>\n",
              "    </tr>\n",
              "    <tr>\n",
              "      <th>H2a</th>\n",
              "      <td>-6.408710e-03</td>\n",
              "    </tr>\n",
              "    <tr>\n",
              "      <th>Operadoras</th>\n",
              "      <td>-7.501977e-03</td>\n",
              "    </tr>\n",
              "    <tr>\n",
              "      <th>Estados</th>\n",
              "      <td>-9.069407e-03</td>\n",
              "    </tr>\n",
              "    <tr>\n",
              "      <th>A2_1</th>\n",
              "      <td>-1.039218e-02</td>\n",
              "    </tr>\n",
              "    <tr>\n",
              "      <th>E8</th>\n",
              "      <td>-1.079173e-02</td>\n",
              "    </tr>\n",
              "    <tr>\n",
              "      <th>F4_3</th>\n",
              "      <td>-1.159479e-02</td>\n",
              "    </tr>\n",
              "    <tr>\n",
              "      <th>A3</th>\n",
              "      <td>-2.050145e-02</td>\n",
              "    </tr>\n",
              "    <tr>\n",
              "      <th>D1_2</th>\n",
              "      <td>-3.310824e-02</td>\n",
              "    </tr>\n",
              "    <tr>\n",
              "      <th>D1_1</th>\n",
              "      <td>-4.625268e-02</td>\n",
              "    </tr>\n",
              "    <tr>\n",
              "      <th>C1_2</th>\n",
              "      <td>-1.115394e-01</td>\n",
              "    </tr>\n",
              "    <tr>\n",
              "      <th>B1_1</th>\n",
              "      <td>-1.190900e-01</td>\n",
              "    </tr>\n",
              "    <tr>\n",
              "      <th>C1_1</th>\n",
              "      <td>-1.213054e-01</td>\n",
              "    </tr>\n",
              "    <tr>\n",
              "      <th>C1_3</th>\n",
              "      <td>-1.386284e-01</td>\n",
              "    </tr>\n",
              "    <tr>\n",
              "      <th>B1_2</th>\n",
              "      <td>-1.509892e-01</td>\n",
              "    </tr>\n",
              "    <tr>\n",
              "      <th>J1</th>\n",
              "      <td>-1.829295e-01</td>\n",
              "    </tr>\n",
              "  </tbody>\n",
              "</table>\n",
              "</div>\n",
              "    <div class=\"colab-df-buttons\">\n",
              "\n",
              "  <div class=\"colab-df-container\">\n",
              "    <button class=\"colab-df-convert\" onclick=\"convertToInteractive('df-81936c81-d0ea-43a7-b6e6-05a5021518f3')\"\n",
              "            title=\"Convert this dataframe to an interactive table.\"\n",
              "            style=\"display:none;\">\n",
              "\n",
              "  <svg xmlns=\"http://www.w3.org/2000/svg\" height=\"24px\" viewBox=\"0 -960 960 960\">\n",
              "    <path d=\"M120-120v-720h720v720H120Zm60-500h600v-160H180v160Zm220 220h160v-160H400v160Zm0 220h160v-160H400v160ZM180-400h160v-160H180v160Zm440 0h160v-160H620v160ZM180-180h160v-160H180v160Zm440 0h160v-160H620v160Z\"/>\n",
              "  </svg>\n",
              "    </button>\n",
              "\n",
              "  <style>\n",
              "    .colab-df-container {\n",
              "      display:flex;\n",
              "      gap: 12px;\n",
              "    }\n",
              "\n",
              "    .colab-df-convert {\n",
              "      background-color: #E8F0FE;\n",
              "      border: none;\n",
              "      border-radius: 50%;\n",
              "      cursor: pointer;\n",
              "      display: none;\n",
              "      fill: #1967D2;\n",
              "      height: 32px;\n",
              "      padding: 0 0 0 0;\n",
              "      width: 32px;\n",
              "    }\n",
              "\n",
              "    .colab-df-convert:hover {\n",
              "      background-color: #E2EBFA;\n",
              "      box-shadow: 0px 1px 2px rgba(60, 64, 67, 0.3), 0px 1px 3px 1px rgba(60, 64, 67, 0.15);\n",
              "      fill: #174EA6;\n",
              "    }\n",
              "\n",
              "    .colab-df-buttons div {\n",
              "      margin-bottom: 4px;\n",
              "    }\n",
              "\n",
              "    [theme=dark] .colab-df-convert {\n",
              "      background-color: #3B4455;\n",
              "      fill: #D2E3FC;\n",
              "    }\n",
              "\n",
              "    [theme=dark] .colab-df-convert:hover {\n",
              "      background-color: #434B5C;\n",
              "      box-shadow: 0px 1px 3px 1px rgba(0, 0, 0, 0.15);\n",
              "      filter: drop-shadow(0px 1px 2px rgba(0, 0, 0, 0.3));\n",
              "      fill: #FFFFFF;\n",
              "    }\n",
              "  </style>\n",
              "\n",
              "    <script>\n",
              "      const buttonEl =\n",
              "        document.querySelector('#df-81936c81-d0ea-43a7-b6e6-05a5021518f3 button.colab-df-convert');\n",
              "      buttonEl.style.display =\n",
              "        google.colab.kernel.accessAllowed ? 'block' : 'none';\n",
              "\n",
              "      async function convertToInteractive(key) {\n",
              "        const element = document.querySelector('#df-81936c81-d0ea-43a7-b6e6-05a5021518f3');\n",
              "        const dataTable =\n",
              "          await google.colab.kernel.invokeFunction('convertToInteractive',\n",
              "                                                    [key], {});\n",
              "        if (!dataTable) return;\n",
              "\n",
              "        const docLinkHtml = 'Like what you see? Visit the ' +\n",
              "          '<a target=\"_blank\" href=https://colab.research.google.com/notebooks/data_table.ipynb>data table notebook</a>'\n",
              "          + ' to learn more about interactive tables.';\n",
              "        element.innerHTML = '';\n",
              "        dataTable['output_type'] = 'display_data';\n",
              "        await google.colab.output.renderOutput(dataTable, element);\n",
              "        const docLink = document.createElement('div');\n",
              "        docLink.innerHTML = docLinkHtml;\n",
              "        element.appendChild(docLink);\n",
              "      }\n",
              "    </script>\n",
              "  </div>\n",
              "\n",
              "\n",
              "<div id=\"df-c1184b19-71cc-4bc4-bd32-2f567e767059\">\n",
              "  <button class=\"colab-df-quickchart\" onclick=\"quickchart('df-c1184b19-71cc-4bc4-bd32-2f567e767059')\"\n",
              "            title=\"Suggest charts\"\n",
              "            style=\"display:none;\">\n",
              "\n",
              "<svg xmlns=\"http://www.w3.org/2000/svg\" height=\"24px\"viewBox=\"0 0 24 24\"\n",
              "     width=\"24px\">\n",
              "    <g>\n",
              "        <path d=\"M19 3H5c-1.1 0-2 .9-2 2v14c0 1.1.9 2 2 2h14c1.1 0 2-.9 2-2V5c0-1.1-.9-2-2-2zM9 17H7v-7h2v7zm4 0h-2V7h2v10zm4 0h-2v-4h2v4z\"/>\n",
              "    </g>\n",
              "</svg>\n",
              "  </button>\n",
              "\n",
              "<style>\n",
              "  .colab-df-quickchart {\n",
              "      --bg-color: #E8F0FE;\n",
              "      --fill-color: #1967D2;\n",
              "      --hover-bg-color: #E2EBFA;\n",
              "      --hover-fill-color: #174EA6;\n",
              "      --disabled-fill-color: #AAA;\n",
              "      --disabled-bg-color: #DDD;\n",
              "  }\n",
              "\n",
              "  [theme=dark] .colab-df-quickchart {\n",
              "      --bg-color: #3B4455;\n",
              "      --fill-color: #D2E3FC;\n",
              "      --hover-bg-color: #434B5C;\n",
              "      --hover-fill-color: #FFFFFF;\n",
              "      --disabled-bg-color: #3B4455;\n",
              "      --disabled-fill-color: #666;\n",
              "  }\n",
              "\n",
              "  .colab-df-quickchart {\n",
              "    background-color: var(--bg-color);\n",
              "    border: none;\n",
              "    border-radius: 50%;\n",
              "    cursor: pointer;\n",
              "    display: none;\n",
              "    fill: var(--fill-color);\n",
              "    height: 32px;\n",
              "    padding: 0;\n",
              "    width: 32px;\n",
              "  }\n",
              "\n",
              "  .colab-df-quickchart:hover {\n",
              "    background-color: var(--hover-bg-color);\n",
              "    box-shadow: 0 1px 2px rgba(60, 64, 67, 0.3), 0 1px 3px 1px rgba(60, 64, 67, 0.15);\n",
              "    fill: var(--button-hover-fill-color);\n",
              "  }\n",
              "\n",
              "  .colab-df-quickchart-complete:disabled,\n",
              "  .colab-df-quickchart-complete:disabled:hover {\n",
              "    background-color: var(--disabled-bg-color);\n",
              "    fill: var(--disabled-fill-color);\n",
              "    box-shadow: none;\n",
              "  }\n",
              "\n",
              "  .colab-df-spinner {\n",
              "    border: 2px solid var(--fill-color);\n",
              "    border-color: transparent;\n",
              "    border-bottom-color: var(--fill-color);\n",
              "    animation:\n",
              "      spin 1s steps(1) infinite;\n",
              "  }\n",
              "\n",
              "  @keyframes spin {\n",
              "    0% {\n",
              "      border-color: transparent;\n",
              "      border-bottom-color: var(--fill-color);\n",
              "      border-left-color: var(--fill-color);\n",
              "    }\n",
              "    20% {\n",
              "      border-color: transparent;\n",
              "      border-left-color: var(--fill-color);\n",
              "      border-top-color: var(--fill-color);\n",
              "    }\n",
              "    30% {\n",
              "      border-color: transparent;\n",
              "      border-left-color: var(--fill-color);\n",
              "      border-top-color: var(--fill-color);\n",
              "      border-right-color: var(--fill-color);\n",
              "    }\n",
              "    40% {\n",
              "      border-color: transparent;\n",
              "      border-right-color: var(--fill-color);\n",
              "      border-top-color: var(--fill-color);\n",
              "    }\n",
              "    60% {\n",
              "      border-color: transparent;\n",
              "      border-right-color: var(--fill-color);\n",
              "    }\n",
              "    80% {\n",
              "      border-color: transparent;\n",
              "      border-right-color: var(--fill-color);\n",
              "      border-bottom-color: var(--fill-color);\n",
              "    }\n",
              "    90% {\n",
              "      border-color: transparent;\n",
              "      border-bottom-color: var(--fill-color);\n",
              "    }\n",
              "  }\n",
              "</style>\n",
              "\n",
              "  <script>\n",
              "    async function quickchart(key) {\n",
              "      const quickchartButtonEl =\n",
              "        document.querySelector('#' + key + ' button');\n",
              "      quickchartButtonEl.disabled = true;  // To prevent multiple clicks.\n",
              "      quickchartButtonEl.classList.add('colab-df-spinner');\n",
              "      try {\n",
              "        const charts = await google.colab.kernel.invokeFunction(\n",
              "            'suggestCharts', [key], {});\n",
              "      } catch (error) {\n",
              "        console.error('Error during call to suggestCharts:', error);\n",
              "      }\n",
              "      quickchartButtonEl.classList.remove('colab-df-spinner');\n",
              "      quickchartButtonEl.classList.add('colab-df-quickchart-complete');\n",
              "    }\n",
              "    (() => {\n",
              "      let quickchartButtonEl =\n",
              "        document.querySelector('#df-c1184b19-71cc-4bc4-bd32-2f567e767059 button');\n",
              "      quickchartButtonEl.style.display =\n",
              "        google.colab.kernel.accessAllowed ? 'block' : 'none';\n",
              "    })();\n",
              "  </script>\n",
              "</div>\n",
              "\n",
              "    </div>\n",
              "  </div>\n"
            ],
            "application/vnd.google.colaboratory.intrinsic+json": {
              "type": "dataframe",
              "summary": "{\n  \"name\": \"coefficients\",\n  \"rows\": 32,\n  \"fields\": [\n    {\n      \"column\": \"Coefficient\",\n      \"properties\": {\n        \"dtype\": \"number\",\n        \"std\": 0.05803648075723267,\n        \"min\": -0.18292950551408227,\n        \"max\": 0.05176621927726271,\n        \"num_unique_values\": 32,\n        \"samples\": [\n          -0.13862839560750567,\n          -0.0039540197300573215,\n          -0.03310823942309116\n        ],\n        \"semantic_type\": \"\",\n        \"description\": \"\"\n      }\n    }\n  ]\n}"
            }
          },
          "metadata": {},
          "execution_count": 11
        }
      ]
    },
    {
      "cell_type": "markdown",
      "source": [
        "Os coeficientes da regressão logística indicam a direção e a magnitude da relação de cada variável com o churn. Variáveis com coeficientes positivos significam que um aumento nessa variável aumenta a probabilidade de churn, enquanto coeficientes negativos significam que um aumento nessa variável diminui a probabilidade de churn."
      ],
      "metadata": {
        "id": "rrA9ZDxOaLG5"
      }
    },
    {
      "cell_type": "markdown",
      "source": [
        "Resultados"
      ],
      "metadata": {
        "id": "iJi2wRr6X6Fn"
      }
    },
    {
      "cell_type": "code",
      "source": [
        "from sklearn.ensemble import RandomForestClassifier\n",
        "importances = []\n",
        "\n",
        "# Treinar o modelo de Random Forest\n",
        "rf_model = RandomForestClassifier(random_state=42)\n",
        "rf_model.fit(X_train, y_train)\n",
        "\n",
        "# Importância das features\n",
        "importances = rf_model.feature_importances_\n",
        "feature_importance = pd.DataFrame(importances, index=X.columns, columns=['Importance']).sort_values(by='Importance', ascending=False)\n",
        "feature_importance"
      ],
      "metadata": {
        "id": "viw_4PPBaNij",
        "outputId": "10cee0cf-52a6-4108-cfb3-8cf57a7e9600",
        "colab": {
          "base_uri": "https://localhost:8080/",
          "height": 1000
        }
      },
      "execution_count": null,
      "outputs": [
        {
          "output_type": "execute_result",
          "data": {
            "text/plain": [
              "            Importance\n",
              "Churn         0.319549\n",
              "J1            0.303781\n",
              "C1_3          0.087672\n",
              "C1_1          0.047898\n",
              "B1_2          0.045461\n",
              "B1_1          0.036131\n",
              "C1_2          0.033239\n",
              "E8            0.022639\n",
              "D1_1          0.011658\n",
              "F4_3          0.010924\n",
              "A2_3          0.010365\n",
              "D1_2          0.006151\n",
              "A3            0.006030\n",
              "Q7            0.005970\n",
              "A2_2          0.005958\n",
              "F4_1          0.005688\n",
              "Estados       0.005273\n",
              "A2_1          0.004963\n",
              "F4_2          0.004621\n",
              "H2            0.004391\n",
              "Q7a           0.004121\n",
              "Operadoras    0.003517\n",
              "H2a           0.002908\n",
              "H1            0.002234\n",
              "E7            0.001615\n",
              "G2_2          0.001349\n",
              "Q8            0.001337\n",
              "G2_1          0.001323\n",
              "Q5            0.001227\n",
              "A1_1          0.000748\n",
              "G2_3          0.000720\n",
              "F3            0.000542"
            ],
            "text/html": [
              "\n",
              "  <div id=\"df-29c6b25c-9bea-4c2f-ad5a-e0a47926e3c3\" class=\"colab-df-container\">\n",
              "    <div>\n",
              "<style scoped>\n",
              "    .dataframe tbody tr th:only-of-type {\n",
              "        vertical-align: middle;\n",
              "    }\n",
              "\n",
              "    .dataframe tbody tr th {\n",
              "        vertical-align: top;\n",
              "    }\n",
              "\n",
              "    .dataframe thead th {\n",
              "        text-align: right;\n",
              "    }\n",
              "</style>\n",
              "<table border=\"1\" class=\"dataframe\">\n",
              "  <thead>\n",
              "    <tr style=\"text-align: right;\">\n",
              "      <th></th>\n",
              "      <th>Importance</th>\n",
              "    </tr>\n",
              "  </thead>\n",
              "  <tbody>\n",
              "    <tr>\n",
              "      <th>Churn</th>\n",
              "      <td>0.319549</td>\n",
              "    </tr>\n",
              "    <tr>\n",
              "      <th>J1</th>\n",
              "      <td>0.303781</td>\n",
              "    </tr>\n",
              "    <tr>\n",
              "      <th>C1_3</th>\n",
              "      <td>0.087672</td>\n",
              "    </tr>\n",
              "    <tr>\n",
              "      <th>C1_1</th>\n",
              "      <td>0.047898</td>\n",
              "    </tr>\n",
              "    <tr>\n",
              "      <th>B1_2</th>\n",
              "      <td>0.045461</td>\n",
              "    </tr>\n",
              "    <tr>\n",
              "      <th>B1_1</th>\n",
              "      <td>0.036131</td>\n",
              "    </tr>\n",
              "    <tr>\n",
              "      <th>C1_2</th>\n",
              "      <td>0.033239</td>\n",
              "    </tr>\n",
              "    <tr>\n",
              "      <th>E8</th>\n",
              "      <td>0.022639</td>\n",
              "    </tr>\n",
              "    <tr>\n",
              "      <th>D1_1</th>\n",
              "      <td>0.011658</td>\n",
              "    </tr>\n",
              "    <tr>\n",
              "      <th>F4_3</th>\n",
              "      <td>0.010924</td>\n",
              "    </tr>\n",
              "    <tr>\n",
              "      <th>A2_3</th>\n",
              "      <td>0.010365</td>\n",
              "    </tr>\n",
              "    <tr>\n",
              "      <th>D1_2</th>\n",
              "      <td>0.006151</td>\n",
              "    </tr>\n",
              "    <tr>\n",
              "      <th>A3</th>\n",
              "      <td>0.006030</td>\n",
              "    </tr>\n",
              "    <tr>\n",
              "      <th>Q7</th>\n",
              "      <td>0.005970</td>\n",
              "    </tr>\n",
              "    <tr>\n",
              "      <th>A2_2</th>\n",
              "      <td>0.005958</td>\n",
              "    </tr>\n",
              "    <tr>\n",
              "      <th>F4_1</th>\n",
              "      <td>0.005688</td>\n",
              "    </tr>\n",
              "    <tr>\n",
              "      <th>Estados</th>\n",
              "      <td>0.005273</td>\n",
              "    </tr>\n",
              "    <tr>\n",
              "      <th>A2_1</th>\n",
              "      <td>0.004963</td>\n",
              "    </tr>\n",
              "    <tr>\n",
              "      <th>F4_2</th>\n",
              "      <td>0.004621</td>\n",
              "    </tr>\n",
              "    <tr>\n",
              "      <th>H2</th>\n",
              "      <td>0.004391</td>\n",
              "    </tr>\n",
              "    <tr>\n",
              "      <th>Q7a</th>\n",
              "      <td>0.004121</td>\n",
              "    </tr>\n",
              "    <tr>\n",
              "      <th>Operadoras</th>\n",
              "      <td>0.003517</td>\n",
              "    </tr>\n",
              "    <tr>\n",
              "      <th>H2a</th>\n",
              "      <td>0.002908</td>\n",
              "    </tr>\n",
              "    <tr>\n",
              "      <th>H1</th>\n",
              "      <td>0.002234</td>\n",
              "    </tr>\n",
              "    <tr>\n",
              "      <th>E7</th>\n",
              "      <td>0.001615</td>\n",
              "    </tr>\n",
              "    <tr>\n",
              "      <th>G2_2</th>\n",
              "      <td>0.001349</td>\n",
              "    </tr>\n",
              "    <tr>\n",
              "      <th>Q8</th>\n",
              "      <td>0.001337</td>\n",
              "    </tr>\n",
              "    <tr>\n",
              "      <th>G2_1</th>\n",
              "      <td>0.001323</td>\n",
              "    </tr>\n",
              "    <tr>\n",
              "      <th>Q5</th>\n",
              "      <td>0.001227</td>\n",
              "    </tr>\n",
              "    <tr>\n",
              "      <th>A1_1</th>\n",
              "      <td>0.000748</td>\n",
              "    </tr>\n",
              "    <tr>\n",
              "      <th>G2_3</th>\n",
              "      <td>0.000720</td>\n",
              "    </tr>\n",
              "    <tr>\n",
              "      <th>F3</th>\n",
              "      <td>0.000542</td>\n",
              "    </tr>\n",
              "  </tbody>\n",
              "</table>\n",
              "</div>\n",
              "    <div class=\"colab-df-buttons\">\n",
              "\n",
              "  <div class=\"colab-df-container\">\n",
              "    <button class=\"colab-df-convert\" onclick=\"convertToInteractive('df-29c6b25c-9bea-4c2f-ad5a-e0a47926e3c3')\"\n",
              "            title=\"Convert this dataframe to an interactive table.\"\n",
              "            style=\"display:none;\">\n",
              "\n",
              "  <svg xmlns=\"http://www.w3.org/2000/svg\" height=\"24px\" viewBox=\"0 -960 960 960\">\n",
              "    <path d=\"M120-120v-720h720v720H120Zm60-500h600v-160H180v160Zm220 220h160v-160H400v160Zm0 220h160v-160H400v160ZM180-400h160v-160H180v160Zm440 0h160v-160H620v160ZM180-180h160v-160H180v160Zm440 0h160v-160H620v160Z\"/>\n",
              "  </svg>\n",
              "    </button>\n",
              "\n",
              "  <style>\n",
              "    .colab-df-container {\n",
              "      display:flex;\n",
              "      gap: 12px;\n",
              "    }\n",
              "\n",
              "    .colab-df-convert {\n",
              "      background-color: #E8F0FE;\n",
              "      border: none;\n",
              "      border-radius: 50%;\n",
              "      cursor: pointer;\n",
              "      display: none;\n",
              "      fill: #1967D2;\n",
              "      height: 32px;\n",
              "      padding: 0 0 0 0;\n",
              "      width: 32px;\n",
              "    }\n",
              "\n",
              "    .colab-df-convert:hover {\n",
              "      background-color: #E2EBFA;\n",
              "      box-shadow: 0px 1px 2px rgba(60, 64, 67, 0.3), 0px 1px 3px 1px rgba(60, 64, 67, 0.15);\n",
              "      fill: #174EA6;\n",
              "    }\n",
              "\n",
              "    .colab-df-buttons div {\n",
              "      margin-bottom: 4px;\n",
              "    }\n",
              "\n",
              "    [theme=dark] .colab-df-convert {\n",
              "      background-color: #3B4455;\n",
              "      fill: #D2E3FC;\n",
              "    }\n",
              "\n",
              "    [theme=dark] .colab-df-convert:hover {\n",
              "      background-color: #434B5C;\n",
              "      box-shadow: 0px 1px 3px 1px rgba(0, 0, 0, 0.15);\n",
              "      filter: drop-shadow(0px 1px 2px rgba(0, 0, 0, 0.3));\n",
              "      fill: #FFFFFF;\n",
              "    }\n",
              "  </style>\n",
              "\n",
              "    <script>\n",
              "      const buttonEl =\n",
              "        document.querySelector('#df-29c6b25c-9bea-4c2f-ad5a-e0a47926e3c3 button.colab-df-convert');\n",
              "      buttonEl.style.display =\n",
              "        google.colab.kernel.accessAllowed ? 'block' : 'none';\n",
              "\n",
              "      async function convertToInteractive(key) {\n",
              "        const element = document.querySelector('#df-29c6b25c-9bea-4c2f-ad5a-e0a47926e3c3');\n",
              "        const dataTable =\n",
              "          await google.colab.kernel.invokeFunction('convertToInteractive',\n",
              "                                                    [key], {});\n",
              "        if (!dataTable) return;\n",
              "\n",
              "        const docLinkHtml = 'Like what you see? Visit the ' +\n",
              "          '<a target=\"_blank\" href=https://colab.research.google.com/notebooks/data_table.ipynb>data table notebook</a>'\n",
              "          + ' to learn more about interactive tables.';\n",
              "        element.innerHTML = '';\n",
              "        dataTable['output_type'] = 'display_data';\n",
              "        await google.colab.output.renderOutput(dataTable, element);\n",
              "        const docLink = document.createElement('div');\n",
              "        docLink.innerHTML = docLinkHtml;\n",
              "        element.appendChild(docLink);\n",
              "      }\n",
              "    </script>\n",
              "  </div>\n",
              "\n",
              "\n",
              "<div id=\"df-b4bb1893-0aa8-4e38-85e1-8fcf2e061859\">\n",
              "  <button class=\"colab-df-quickchart\" onclick=\"quickchart('df-b4bb1893-0aa8-4e38-85e1-8fcf2e061859')\"\n",
              "            title=\"Suggest charts\"\n",
              "            style=\"display:none;\">\n",
              "\n",
              "<svg xmlns=\"http://www.w3.org/2000/svg\" height=\"24px\"viewBox=\"0 0 24 24\"\n",
              "     width=\"24px\">\n",
              "    <g>\n",
              "        <path d=\"M19 3H5c-1.1 0-2 .9-2 2v14c0 1.1.9 2 2 2h14c1.1 0 2-.9 2-2V5c0-1.1-.9-2-2-2zM9 17H7v-7h2v7zm4 0h-2V7h2v10zm4 0h-2v-4h2v4z\"/>\n",
              "    </g>\n",
              "</svg>\n",
              "  </button>\n",
              "\n",
              "<style>\n",
              "  .colab-df-quickchart {\n",
              "      --bg-color: #E8F0FE;\n",
              "      --fill-color: #1967D2;\n",
              "      --hover-bg-color: #E2EBFA;\n",
              "      --hover-fill-color: #174EA6;\n",
              "      --disabled-fill-color: #AAA;\n",
              "      --disabled-bg-color: #DDD;\n",
              "  }\n",
              "\n",
              "  [theme=dark] .colab-df-quickchart {\n",
              "      --bg-color: #3B4455;\n",
              "      --fill-color: #D2E3FC;\n",
              "      --hover-bg-color: #434B5C;\n",
              "      --hover-fill-color: #FFFFFF;\n",
              "      --disabled-bg-color: #3B4455;\n",
              "      --disabled-fill-color: #666;\n",
              "  }\n",
              "\n",
              "  .colab-df-quickchart {\n",
              "    background-color: var(--bg-color);\n",
              "    border: none;\n",
              "    border-radius: 50%;\n",
              "    cursor: pointer;\n",
              "    display: none;\n",
              "    fill: var(--fill-color);\n",
              "    height: 32px;\n",
              "    padding: 0;\n",
              "    width: 32px;\n",
              "  }\n",
              "\n",
              "  .colab-df-quickchart:hover {\n",
              "    background-color: var(--hover-bg-color);\n",
              "    box-shadow: 0 1px 2px rgba(60, 64, 67, 0.3), 0 1px 3px 1px rgba(60, 64, 67, 0.15);\n",
              "    fill: var(--button-hover-fill-color);\n",
              "  }\n",
              "\n",
              "  .colab-df-quickchart-complete:disabled,\n",
              "  .colab-df-quickchart-complete:disabled:hover {\n",
              "    background-color: var(--disabled-bg-color);\n",
              "    fill: var(--disabled-fill-color);\n",
              "    box-shadow: none;\n",
              "  }\n",
              "\n",
              "  .colab-df-spinner {\n",
              "    border: 2px solid var(--fill-color);\n",
              "    border-color: transparent;\n",
              "    border-bottom-color: var(--fill-color);\n",
              "    animation:\n",
              "      spin 1s steps(1) infinite;\n",
              "  }\n",
              "\n",
              "  @keyframes spin {\n",
              "    0% {\n",
              "      border-color: transparent;\n",
              "      border-bottom-color: var(--fill-color);\n",
              "      border-left-color: var(--fill-color);\n",
              "    }\n",
              "    20% {\n",
              "      border-color: transparent;\n",
              "      border-left-color: var(--fill-color);\n",
              "      border-top-color: var(--fill-color);\n",
              "    }\n",
              "    30% {\n",
              "      border-color: transparent;\n",
              "      border-left-color: var(--fill-color);\n",
              "      border-top-color: var(--fill-color);\n",
              "      border-right-color: var(--fill-color);\n",
              "    }\n",
              "    40% {\n",
              "      border-color: transparent;\n",
              "      border-right-color: var(--fill-color);\n",
              "      border-top-color: var(--fill-color);\n",
              "    }\n",
              "    60% {\n",
              "      border-color: transparent;\n",
              "      border-right-color: var(--fill-color);\n",
              "    }\n",
              "    80% {\n",
              "      border-color: transparent;\n",
              "      border-right-color: var(--fill-color);\n",
              "      border-bottom-color: var(--fill-color);\n",
              "    }\n",
              "    90% {\n",
              "      border-color: transparent;\n",
              "      border-bottom-color: var(--fill-color);\n",
              "    }\n",
              "  }\n",
              "</style>\n",
              "\n",
              "  <script>\n",
              "    async function quickchart(key) {\n",
              "      const quickchartButtonEl =\n",
              "        document.querySelector('#' + key + ' button');\n",
              "      quickchartButtonEl.disabled = true;  // To prevent multiple clicks.\n",
              "      quickchartButtonEl.classList.add('colab-df-spinner');\n",
              "      try {\n",
              "        const charts = await google.colab.kernel.invokeFunction(\n",
              "            'suggestCharts', [key], {});\n",
              "      } catch (error) {\n",
              "        console.error('Error during call to suggestCharts:', error);\n",
              "      }\n",
              "      quickchartButtonEl.classList.remove('colab-df-spinner');\n",
              "      quickchartButtonEl.classList.add('colab-df-quickchart-complete');\n",
              "    }\n",
              "    (() => {\n",
              "      let quickchartButtonEl =\n",
              "        document.querySelector('#df-b4bb1893-0aa8-4e38-85e1-8fcf2e061859 button');\n",
              "      quickchartButtonEl.style.display =\n",
              "        google.colab.kernel.accessAllowed ? 'block' : 'none';\n",
              "    })();\n",
              "  </script>\n",
              "</div>\n",
              "\n",
              "  <div id=\"id_7401825b-785d-49b3-b8d0-4c6a20ade676\">\n",
              "    <style>\n",
              "      .colab-df-generate {\n",
              "        background-color: #E8F0FE;\n",
              "        border: none;\n",
              "        border-radius: 50%;\n",
              "        cursor: pointer;\n",
              "        display: none;\n",
              "        fill: #1967D2;\n",
              "        height: 32px;\n",
              "        padding: 0 0 0 0;\n",
              "        width: 32px;\n",
              "      }\n",
              "\n",
              "      .colab-df-generate:hover {\n",
              "        background-color: #E2EBFA;\n",
              "        box-shadow: 0px 1px 2px rgba(60, 64, 67, 0.3), 0px 1px 3px 1px rgba(60, 64, 67, 0.15);\n",
              "        fill: #174EA6;\n",
              "      }\n",
              "\n",
              "      [theme=dark] .colab-df-generate {\n",
              "        background-color: #3B4455;\n",
              "        fill: #D2E3FC;\n",
              "      }\n",
              "\n",
              "      [theme=dark] .colab-df-generate:hover {\n",
              "        background-color: #434B5C;\n",
              "        box-shadow: 0px 1px 3px 1px rgba(0, 0, 0, 0.15);\n",
              "        filter: drop-shadow(0px 1px 2px rgba(0, 0, 0, 0.3));\n",
              "        fill: #FFFFFF;\n",
              "      }\n",
              "    </style>\n",
              "    <button class=\"colab-df-generate\" onclick=\"generateWithVariable('feature_importance')\"\n",
              "            title=\"Generate code using this dataframe.\"\n",
              "            style=\"display:none;\">\n",
              "\n",
              "  <svg xmlns=\"http://www.w3.org/2000/svg\" height=\"24px\"viewBox=\"0 0 24 24\"\n",
              "       width=\"24px\">\n",
              "    <path d=\"M7,19H8.4L18.45,9,17,7.55,7,17.6ZM5,21V16.75L18.45,3.32a2,2,0,0,1,2.83,0l1.4,1.43a1.91,1.91,0,0,1,.58,1.4,1.91,1.91,0,0,1-.58,1.4L9.25,21ZM18.45,9,17,7.55Zm-12,3A5.31,5.31,0,0,0,4.9,8.1,5.31,5.31,0,0,0,1,6.5,5.31,5.31,0,0,0,4.9,4.9,5.31,5.31,0,0,0,6.5,1,5.31,5.31,0,0,0,8.1,4.9,5.31,5.31,0,0,0,12,6.5,5.46,5.46,0,0,0,6.5,12Z\"/>\n",
              "  </svg>\n",
              "    </button>\n",
              "    <script>\n",
              "      (() => {\n",
              "      const buttonEl =\n",
              "        document.querySelector('#id_7401825b-785d-49b3-b8d0-4c6a20ade676 button.colab-df-generate');\n",
              "      buttonEl.style.display =\n",
              "        google.colab.kernel.accessAllowed ? 'block' : 'none';\n",
              "\n",
              "      buttonEl.onclick = () => {\n",
              "        google.colab.notebook.generateWithVariable('feature_importance');\n",
              "      }\n",
              "      })();\n",
              "    </script>\n",
              "  </div>\n",
              "\n",
              "    </div>\n",
              "  </div>\n"
            ],
            "application/vnd.google.colaboratory.intrinsic+json": {
              "type": "dataframe",
              "variable_name": "feature_importance",
              "summary": "{\n  \"name\": \"feature_importance\",\n  \"rows\": 32,\n  \"fields\": [\n    {\n      \"column\": \"Importance\",\n      \"properties\": {\n        \"dtype\": \"number\",\n        \"std\": 0.07594599609125126,\n        \"min\": 0.0005419916469983549,\n        \"max\": 0.31954937097412817,\n        \"num_unique_values\": 32,\n        \"samples\": [\n          0.000747827799109096,\n          0.005687919245952826,\n          0.0016149551202988548\n        ],\n        \"semantic_type\": \"\",\n        \"description\": \"\"\n      }\n    }\n  ]\n}"
            }
          },
          "metadata": {},
          "execution_count": 12
        }
      ]
    },
    {
      "cell_type": "markdown",
      "source": [
        "As importâncias das features fornecidas por modelos baseados em árvores mostram quão importantes essas variáveis são para fazer previsões precisas. Variáveis com maior importância são aquelas que contribuem mais para o modelo."
      ],
      "metadata": {
        "id": "U3_fRzSEaTs6"
      }
    },
    {
      "cell_type": "markdown",
      "source": [
        "Correlação das Variáveis com o Churn"
      ],
      "metadata": {
        "id": "KWbCegZo5XVL"
      }
    },
    {
      "cell_type": "code",
      "source": [
        "correlation_matrix = df_clean.corr()\n",
        "churn_correlation = correlation_matrix['Churn'].sort_values(ascending=False)\n",
        "churn_correlation"
      ],
      "metadata": {
        "id": "8P7gIkdGaVLv",
        "outputId": "6d13ac57-b036-4237-91de-aceefd080562",
        "colab": {
          "base_uri": "https://localhost:8080/"
        }
      },
      "execution_count": null,
      "outputs": [
        {
          "output_type": "execute_result",
          "data": {
            "text/plain": [
              "Churn         1.000000\n",
              "G2_1          0.061821\n",
              "H1            0.032415\n",
              "Q7a           0.024312\n",
              "Q8            0.021016\n",
              "H2a           0.016567\n",
              "Q7            0.006378\n",
              "G2_2         -0.004466\n",
              "Estados      -0.007529\n",
              "G2_3         -0.011854\n",
              "Operadoras   -0.012369\n",
              "H2           -0.019097\n",
              "A1_1         -0.049659\n",
              "A2_3         -0.057749\n",
              "A3           -0.062645\n",
              "A2_1         -0.063029\n",
              "A2_2         -0.063970\n",
              "Q5           -0.078968\n",
              "D1_2         -0.100897\n",
              "D1_1         -0.119118\n",
              "F3           -0.128177\n",
              "F4_1         -0.132482\n",
              "F4_2         -0.141225\n",
              "F4_3         -0.145239\n",
              "E7           -0.146568\n",
              "E8           -0.169590\n",
              "B1_1         -0.219049\n",
              "B1_2         -0.222873\n",
              "C1_3         -0.330280\n",
              "C1_2         -0.493912\n",
              "J1           -0.517878\n",
              "C1_1         -0.526100\n",
              "Name: Churn, dtype: float64"
            ]
          },
          "metadata": {},
          "execution_count": 13
        }
      ]
    },
    {
      "cell_type": "markdown",
      "source": [
        "A correlação de cada variável com o churn mostra a força da relação linear entre a variável e o churn. Valores de correlação mais altos (positivos ou negativos) indicam uma relação mais forte."
      ],
      "metadata": {
        "id": "-w-4OT9CaY-Z"
      }
    },
    {
      "cell_type": "markdown",
      "source": [
        "# Importando o Modelo de LR e Árvore de Decisão"
      ],
      "metadata": {
        "id": "2-wr7zh53DPU"
      }
    },
    {
      "cell_type": "code",
      "source": [
        "from sklearn.model_selection import train_test_split\n",
        "from sklearn.linear_model import LinearRegression\n",
        "from sklearn.tree import DecisionTreeClassifier"
      ],
      "metadata": {
        "id": "QR-7-wx23Grh"
      },
      "execution_count": null,
      "outputs": []
    },
    {
      "cell_type": "code",
      "source": [
        "from sklearn.metrics import mean_squared_error\n",
        "from sklearn.metrics import classification_report"
      ],
      "metadata": {
        "id": "1xMEuwHj6R7Z"
      },
      "execution_count": null,
      "outputs": []
    },
    {
      "cell_type": "markdown",
      "source": [
        "# **Modelo 1: Previsão de Churn a partir da Satisfação do Cliente**"
      ],
      "metadata": {
        "id": "UGTen8f1ajOB"
      }
    },
    {
      "cell_type": "markdown",
      "source": [
        "Utiliza a satisfação do cliente para prever se ocorrerá churn."
      ],
      "metadata": {
        "id": "D7yT3YJFmRA0"
      }
    },
    {
      "cell_type": "markdown",
      "source": [
        "Preparação dos Dados:"
      ],
      "metadata": {
        "id": "GHo-zayGnISP"
      }
    },
    {
      "cell_type": "code",
      "source": [
        "X2 = df['J1'].values.reshape(-1, 1)\n",
        "y2 = df['Churn']\n",
        "X2_train, X2_test, y2_train, y2_test = train_test_split(X2, y2, test_size=0.3, random_state=42)"
      ],
      "metadata": {
        "id": "S5KgsdSpaqCB"
      },
      "execution_count": null,
      "outputs": []
    },
    {
      "cell_type": "markdown",
      "source": [
        "Modelo de Aprendizado de Máquina:"
      ],
      "metadata": {
        "id": "dI3G2RtnnOPa"
      }
    },
    {
      "cell_type": "code",
      "source": [
        "modelo1 = LogisticRegression()\n",
        "modelo1.fit(X2_train, y2_train)"
      ],
      "metadata": {
        "id": "wn-WNi2YavAu",
        "outputId": "838f184d-61bb-4822-d829-864f4cb1324c",
        "colab": {
          "base_uri": "https://localhost:8080/",
          "height": 74
        }
      },
      "execution_count": null,
      "outputs": [
        {
          "output_type": "execute_result",
          "data": {
            "text/plain": [
              "LogisticRegression()"
            ],
            "text/html": [
              "<style>#sk-container-id-1 {color: black;background-color: white;}#sk-container-id-1 pre{padding: 0;}#sk-container-id-1 div.sk-toggleable {background-color: white;}#sk-container-id-1 label.sk-toggleable__label {cursor: pointer;display: block;width: 100%;margin-bottom: 0;padding: 0.3em;box-sizing: border-box;text-align: center;}#sk-container-id-1 label.sk-toggleable__label-arrow:before {content: \"▸\";float: left;margin-right: 0.25em;color: #696969;}#sk-container-id-1 label.sk-toggleable__label-arrow:hover:before {color: black;}#sk-container-id-1 div.sk-estimator:hover label.sk-toggleable__label-arrow:before {color: black;}#sk-container-id-1 div.sk-toggleable__content {max-height: 0;max-width: 0;overflow: hidden;text-align: left;background-color: #f0f8ff;}#sk-container-id-1 div.sk-toggleable__content pre {margin: 0.2em;color: black;border-radius: 0.25em;background-color: #f0f8ff;}#sk-container-id-1 input.sk-toggleable__control:checked~div.sk-toggleable__content {max-height: 200px;max-width: 100%;overflow: auto;}#sk-container-id-1 input.sk-toggleable__control:checked~label.sk-toggleable__label-arrow:before {content: \"▾\";}#sk-container-id-1 div.sk-estimator input.sk-toggleable__control:checked~label.sk-toggleable__label {background-color: #d4ebff;}#sk-container-id-1 div.sk-label input.sk-toggleable__control:checked~label.sk-toggleable__label {background-color: #d4ebff;}#sk-container-id-1 input.sk-hidden--visually {border: 0;clip: rect(1px 1px 1px 1px);clip: rect(1px, 1px, 1px, 1px);height: 1px;margin: -1px;overflow: hidden;padding: 0;position: absolute;width: 1px;}#sk-container-id-1 div.sk-estimator {font-family: monospace;background-color: #f0f8ff;border: 1px dotted black;border-radius: 0.25em;box-sizing: border-box;margin-bottom: 0.5em;}#sk-container-id-1 div.sk-estimator:hover {background-color: #d4ebff;}#sk-container-id-1 div.sk-parallel-item::after {content: \"\";width: 100%;border-bottom: 1px solid gray;flex-grow: 1;}#sk-container-id-1 div.sk-label:hover label.sk-toggleable__label {background-color: #d4ebff;}#sk-container-id-1 div.sk-serial::before {content: \"\";position: absolute;border-left: 1px solid gray;box-sizing: border-box;top: 0;bottom: 0;left: 50%;z-index: 0;}#sk-container-id-1 div.sk-serial {display: flex;flex-direction: column;align-items: center;background-color: white;padding-right: 0.2em;padding-left: 0.2em;position: relative;}#sk-container-id-1 div.sk-item {position: relative;z-index: 1;}#sk-container-id-1 div.sk-parallel {display: flex;align-items: stretch;justify-content: center;background-color: white;position: relative;}#sk-container-id-1 div.sk-item::before, #sk-container-id-1 div.sk-parallel-item::before {content: \"\";position: absolute;border-left: 1px solid gray;box-sizing: border-box;top: 0;bottom: 0;left: 50%;z-index: -1;}#sk-container-id-1 div.sk-parallel-item {display: flex;flex-direction: column;z-index: 1;position: relative;background-color: white;}#sk-container-id-1 div.sk-parallel-item:first-child::after {align-self: flex-end;width: 50%;}#sk-container-id-1 div.sk-parallel-item:last-child::after {align-self: flex-start;width: 50%;}#sk-container-id-1 div.sk-parallel-item:only-child::after {width: 0;}#sk-container-id-1 div.sk-dashed-wrapped {border: 1px dashed gray;margin: 0 0.4em 0.5em 0.4em;box-sizing: border-box;padding-bottom: 0.4em;background-color: white;}#sk-container-id-1 div.sk-label label {font-family: monospace;font-weight: bold;display: inline-block;line-height: 1.2em;}#sk-container-id-1 div.sk-label-container {text-align: center;}#sk-container-id-1 div.sk-container {/* jupyter's `normalize.less` sets `[hidden] { display: none; }` but bootstrap.min.css set `[hidden] { display: none !important; }` so we also need the `!important` here to be able to override the default hidden behavior on the sphinx rendered scikit-learn.org. See: https://github.com/scikit-learn/scikit-learn/issues/21755 */display: inline-block !important;position: relative;}#sk-container-id-1 div.sk-text-repr-fallback {display: none;}</style><div id=\"sk-container-id-1\" class=\"sk-top-container\"><div class=\"sk-text-repr-fallback\"><pre>LogisticRegression()</pre><b>In a Jupyter environment, please rerun this cell to show the HTML representation or trust the notebook. <br />On GitHub, the HTML representation is unable to render, please try loading this page with nbviewer.org.</b></div><div class=\"sk-container\" hidden><div class=\"sk-item\"><div class=\"sk-estimator sk-toggleable\"><input class=\"sk-toggleable__control sk-hidden--visually\" id=\"sk-estimator-id-1\" type=\"checkbox\" checked><label for=\"sk-estimator-id-1\" class=\"sk-toggleable__label sk-toggleable__label-arrow\">LogisticRegression</label><div class=\"sk-toggleable__content\"><pre>LogisticRegression()</pre></div></div></div></div></div>"
            ]
          },
          "metadata": {},
          "execution_count": 24
        }
      ]
    },
    {
      "cell_type": "markdown",
      "source": [
        "Resultados:"
      ],
      "metadata": {
        "id": "6Ho3qgiVnXKK"
      }
    },
    {
      "cell_type": "code",
      "source": [
        "y2_pred = modelo1.predict(X2_test)\n",
        "\n",
        "# Avaliar o modelo\n",
        "from sklearn.metrics import classification_report, confusion_matrix\n",
        "\n",
        "print(confusion_matrix(y2_test, y2_pred))\n",
        "print(classification_report(y2_test, y2_pred))"
      ],
      "metadata": {
        "id": "DoScDKaOnYcI",
        "outputId": "8cbce99f-8b5b-464c-b5fc-7c44cd1b25c4",
        "colab": {
          "base_uri": "https://localhost:8080/"
        }
      },
      "execution_count": null,
      "outputs": [
        {
          "output_type": "stream",
          "name": "stdout",
          "text": [
            "[[278   0]\n",
            " [  0  52]]\n",
            "              precision    recall  f1-score   support\n",
            "\n",
            "           0       1.00      1.00      1.00       278\n",
            "           1       1.00      1.00      1.00        52\n",
            "\n",
            "    accuracy                           1.00       330\n",
            "   macro avg       1.00      1.00      1.00       330\n",
            "weighted avg       1.00      1.00      1.00       330\n",
            "\n"
          ]
        }
      ]
    },
    {
      "cell_type": "markdown",
      "source": [
        "Novas previsões"
      ],
      "metadata": {
        "id": "ttS0sGqqneHo"
      }
    },
    {
      "cell_type": "code",
      "source": [
        "new_pred = np.array([3.0,5.0,8,0,1.0,0,2.0,9.0]).reshape(-1,1)\n",
        "modelo1.predict(new_pred)"
      ],
      "metadata": {
        "id": "NSJKxf2Ca1JI",
        "outputId": "c0b2cf56-009c-445d-9d69-7c0e17156035",
        "colab": {
          "base_uri": "https://localhost:8080/"
        }
      },
      "execution_count": null,
      "outputs": [
        {
          "output_type": "execute_result",
          "data": {
            "text/plain": [
              "array([1, 0, 0, 1, 1, 1, 1, 0])"
            ]
          },
          "metadata": {},
          "execution_count": 26
        }
      ]
    },
    {
      "cell_type": "markdown",
      "source": [
        "Resultados dos treinos só com as Operadoras"
      ],
      "metadata": {
        "id": "4NEk2qjfa5jo"
      }
    },
    {
      "cell_type": "code",
      "source": [
        "X3 = df['Operadoras'].values.reshape(-1, 1)\n",
        "y3 = df['Churn']\n",
        "\n",
        "X3_train, X3_test, y3_train, y3_test = train_test_split(X3, y3, test_size=0.3, random_state=42)\n",
        "\n",
        "modelo2 = LogisticRegression()\n",
        "modelo2.fit(X3_train, y3_train)"
      ],
      "metadata": {
        "id": "FYfAdZEybD7x",
        "outputId": "18d49249-489f-4e76-e69e-4dd2ae90fa86",
        "colab": {
          "base_uri": "https://localhost:8080/",
          "height": 74
        }
      },
      "execution_count": null,
      "outputs": [
        {
          "output_type": "execute_result",
          "data": {
            "text/plain": [
              "LogisticRegression()"
            ],
            "text/html": [
              "<style>#sk-container-id-2 {color: black;background-color: white;}#sk-container-id-2 pre{padding: 0;}#sk-container-id-2 div.sk-toggleable {background-color: white;}#sk-container-id-2 label.sk-toggleable__label {cursor: pointer;display: block;width: 100%;margin-bottom: 0;padding: 0.3em;box-sizing: border-box;text-align: center;}#sk-container-id-2 label.sk-toggleable__label-arrow:before {content: \"▸\";float: left;margin-right: 0.25em;color: #696969;}#sk-container-id-2 label.sk-toggleable__label-arrow:hover:before {color: black;}#sk-container-id-2 div.sk-estimator:hover label.sk-toggleable__label-arrow:before {color: black;}#sk-container-id-2 div.sk-toggleable__content {max-height: 0;max-width: 0;overflow: hidden;text-align: left;background-color: #f0f8ff;}#sk-container-id-2 div.sk-toggleable__content pre {margin: 0.2em;color: black;border-radius: 0.25em;background-color: #f0f8ff;}#sk-container-id-2 input.sk-toggleable__control:checked~div.sk-toggleable__content {max-height: 200px;max-width: 100%;overflow: auto;}#sk-container-id-2 input.sk-toggleable__control:checked~label.sk-toggleable__label-arrow:before {content: \"▾\";}#sk-container-id-2 div.sk-estimator input.sk-toggleable__control:checked~label.sk-toggleable__label {background-color: #d4ebff;}#sk-container-id-2 div.sk-label input.sk-toggleable__control:checked~label.sk-toggleable__label {background-color: #d4ebff;}#sk-container-id-2 input.sk-hidden--visually {border: 0;clip: rect(1px 1px 1px 1px);clip: rect(1px, 1px, 1px, 1px);height: 1px;margin: -1px;overflow: hidden;padding: 0;position: absolute;width: 1px;}#sk-container-id-2 div.sk-estimator {font-family: monospace;background-color: #f0f8ff;border: 1px dotted black;border-radius: 0.25em;box-sizing: border-box;margin-bottom: 0.5em;}#sk-container-id-2 div.sk-estimator:hover {background-color: #d4ebff;}#sk-container-id-2 div.sk-parallel-item::after {content: \"\";width: 100%;border-bottom: 1px solid gray;flex-grow: 1;}#sk-container-id-2 div.sk-label:hover label.sk-toggleable__label {background-color: #d4ebff;}#sk-container-id-2 div.sk-serial::before {content: \"\";position: absolute;border-left: 1px solid gray;box-sizing: border-box;top: 0;bottom: 0;left: 50%;z-index: 0;}#sk-container-id-2 div.sk-serial {display: flex;flex-direction: column;align-items: center;background-color: white;padding-right: 0.2em;padding-left: 0.2em;position: relative;}#sk-container-id-2 div.sk-item {position: relative;z-index: 1;}#sk-container-id-2 div.sk-parallel {display: flex;align-items: stretch;justify-content: center;background-color: white;position: relative;}#sk-container-id-2 div.sk-item::before, #sk-container-id-2 div.sk-parallel-item::before {content: \"\";position: absolute;border-left: 1px solid gray;box-sizing: border-box;top: 0;bottom: 0;left: 50%;z-index: -1;}#sk-container-id-2 div.sk-parallel-item {display: flex;flex-direction: column;z-index: 1;position: relative;background-color: white;}#sk-container-id-2 div.sk-parallel-item:first-child::after {align-self: flex-end;width: 50%;}#sk-container-id-2 div.sk-parallel-item:last-child::after {align-self: flex-start;width: 50%;}#sk-container-id-2 div.sk-parallel-item:only-child::after {width: 0;}#sk-container-id-2 div.sk-dashed-wrapped {border: 1px dashed gray;margin: 0 0.4em 0.5em 0.4em;box-sizing: border-box;padding-bottom: 0.4em;background-color: white;}#sk-container-id-2 div.sk-label label {font-family: monospace;font-weight: bold;display: inline-block;line-height: 1.2em;}#sk-container-id-2 div.sk-label-container {text-align: center;}#sk-container-id-2 div.sk-container {/* jupyter's `normalize.less` sets `[hidden] { display: none; }` but bootstrap.min.css set `[hidden] { display: none !important; }` so we also need the `!important` here to be able to override the default hidden behavior on the sphinx rendered scikit-learn.org. See: https://github.com/scikit-learn/scikit-learn/issues/21755 */display: inline-block !important;position: relative;}#sk-container-id-2 div.sk-text-repr-fallback {display: none;}</style><div id=\"sk-container-id-2\" class=\"sk-top-container\"><div class=\"sk-text-repr-fallback\"><pre>LogisticRegression()</pre><b>In a Jupyter environment, please rerun this cell to show the HTML representation or trust the notebook. <br />On GitHub, the HTML representation is unable to render, please try loading this page with nbviewer.org.</b></div><div class=\"sk-container\" hidden><div class=\"sk-item\"><div class=\"sk-estimator sk-toggleable\"><input class=\"sk-toggleable__control sk-hidden--visually\" id=\"sk-estimator-id-2\" type=\"checkbox\" checked><label for=\"sk-estimator-id-2\" class=\"sk-toggleable__label sk-toggleable__label-arrow\">LogisticRegression</label><div class=\"sk-toggleable__content\"><pre>LogisticRegression()</pre></div></div></div></div></div>"
            ]
          },
          "metadata": {},
          "execution_count": 27
        }
      ]
    },
    {
      "cell_type": "code",
      "source": [
        "pred_op = np.array([1,2,3,4,5,6,7,8,9,0]).reshape(-1,1)\n",
        "modelo2.predict(pred_op)"
      ],
      "metadata": {
        "id": "73l_qBVabGLb",
        "outputId": "ffc9b997-2ea2-4e02-861f-f68d24aa99b6",
        "colab": {
          "base_uri": "https://localhost:8080/"
        }
      },
      "execution_count": null,
      "outputs": [
        {
          "output_type": "execute_result",
          "data": {
            "text/plain": [
              "array([0, 0, 0, 0, 0, 0, 0, 0, 0, 0])"
            ]
          },
          "metadata": {},
          "execution_count": 28
        }
      ]
    },
    {
      "cell_type": "code",
      "source": [
        "plt.figure(figsize=(15, 10))\n",
        "\n",
        "plt.subplot(2, 3, 1)\n",
        "sns.histplot(df['J1'], bins=10, kde=True)\n",
        "plt.title('Distribuição da Satisfação Geral (J1)')\n",
        "\n",
        "plt.subplot(2, 3, 2)\n",
        "sns.histplot(df['B1_1'], bins=10, kde=True)\n",
        "plt.title('Distribuição da Facilidade de Atendimento (B1_1)')\n",
        "\n",
        "plt.subplot(2, 3, 3)\n",
        "sns.histplot(df['E7'], bins=10, kde=True)\n",
        "plt.title('Distribuição do Contato sobre Problemas (E7)')\n",
        "\n",
        "plt.subplot(2, 3, 4)\n",
        "sns.histplot(df['Q7'], bins=10, kde=True)\n",
        "plt.title('Distribuição da Idade (Q7)')\n",
        "\n",
        "plt.subplot(2, 3, 5)\n",
        "sns.histplot(df['H1'], bins=10, kde=True)\n",
        "plt.title('Distribuição da Quantidade de Residentes (H1)')\n",
        "\n",
        "plt.subplot(2, 3, 6)\n",
        "sns.histplot(df['H2'], bins=10, kde=True)\n",
        "plt.title('Distribuição da Renda Mensal Familiar (H2)')\n",
        "\n",
        "plt.tight_layout()\n",
        "plt.show()"
      ],
      "metadata": {
        "id": "ighjA7YobI9p",
        "outputId": "5209cb36-878b-4f35-82e8-98364fd9ed55",
        "colab": {
          "base_uri": "https://localhost:8080/",
          "height": 760
        }
      },
      "execution_count": null,
      "outputs": [
        {
          "output_type": "display_data",
          "data": {
            "text/plain": [
              "<Figure size 1500x1000 with 6 Axes>"
            ],
            "image/png": "[encoded data removed]"
          },
          "metadata": {}
        }
      ]
    },
    {
      "cell_type": "markdown",
      "source": [
        "\n",
        "# **Modelo 2: Previsão de Satisfação do Cliente**"
      ],
      "metadata": {
        "id": "tdvLSUA4FDWt"
      }
    },
    {
      "cell_type": "markdown",
      "source": [
        "Prevê a satisfação do cliente utilizando critérios de classificação como: Facilidade de Atendimento de Planos e Serviços Contratados (B1_1), Cobrança de Valores (C1_1) e Comprometimento da Operadora em Cumprir os Prometidos (B1_2), e a variável de resposta Satisfação Geral dos Clientes (J1)."
      ],
      "metadata": {
        "id": "iYe76FUdnnm3"
      }
    },
    {
      "cell_type": "markdown",
      "source": [
        "Preparação dos Dados:"
      ],
      "metadata": {
        "id": "wNLUjG8-XiaT"
      }
    },
    {
      "cell_type": "code",
      "source": [
        "X = df[['B1_1','C1_1','B1_2']].values\n",
        "y = df['J1'].values\n",
        "X_train, X_test, y_train, y_test = train_test_split(X, y, test_size=0.3, random_state=42)"
      ],
      "metadata": {
        "id": "0VIPFqZ9Xoi8"
      },
      "execution_count": null,
      "outputs": []
    },
    {
      "cell_type": "markdown",
      "source": [
        "Modelo:"
      ],
      "metadata": {
        "id": "VNqi-pR_nv2t"
      }
    },
    {
      "cell_type": "code",
      "source": [
        "model1 = LinearRegression()\n",
        "model1.fit(X_train, y_train)"
      ],
      "metadata": {
        "id": "gxJTuBVV6jC_",
        "outputId": "ba04a675-08eb-4725-ddfb-65ab0a7f5d3f",
        "colab": {
          "base_uri": "https://localhost:8080/",
          "height": 75
        }
      },
      "execution_count": null,
      "outputs": [
        {
          "output_type": "execute_result",
          "data": {
            "text/plain": [
              "LinearRegression()"
            ],
            "text/html": [
              "<style>#sk-container-id-7 {color: black;background-color: white;}#sk-container-id-7 pre{padding: 0;}#sk-container-id-7 div.sk-toggleable {background-color: white;}#sk-container-id-7 label.sk-toggleable__label {cursor: pointer;display: block;width: 100%;margin-bottom: 0;padding: 0.3em;box-sizing: border-box;text-align: center;}#sk-container-id-7 label.sk-toggleable__label-arrow:before {content: \"▸\";float: left;margin-right: 0.25em;color: #696969;}#sk-container-id-7 label.sk-toggleable__label-arrow:hover:before {color: black;}#sk-container-id-7 div.sk-estimator:hover label.sk-toggleable__label-arrow:before {color: black;}#sk-container-id-7 div.sk-toggleable__content {max-height: 0;max-width: 0;overflow: hidden;text-align: left;background-color: #f0f8ff;}#sk-container-id-7 div.sk-toggleable__content pre {margin: 0.2em;color: black;border-radius: 0.25em;background-color: #f0f8ff;}#sk-container-id-7 input.sk-toggleable__control:checked~div.sk-toggleable__content {max-height: 200px;max-width: 100%;overflow: auto;}#sk-container-id-7 input.sk-toggleable__control:checked~label.sk-toggleable__label-arrow:before {content: \"▾\";}#sk-container-id-7 div.sk-estimator input.sk-toggleable__control:checked~label.sk-toggleable__label {background-color: #d4ebff;}#sk-container-id-7 div.sk-label input.sk-toggleable__control:checked~label.sk-toggleable__label {background-color: #d4ebff;}#sk-container-id-7 input.sk-hidden--visually {border: 0;clip: rect(1px 1px 1px 1px);clip: rect(1px, 1px, 1px, 1px);height: 1px;margin: -1px;overflow: hidden;padding: 0;position: absolute;width: 1px;}#sk-container-id-7 div.sk-estimator {font-family: monospace;background-color: #f0f8ff;border: 1px dotted black;border-radius: 0.25em;box-sizing: border-box;margin-bottom: 0.5em;}#sk-container-id-7 div.sk-estimator:hover {background-color: #d4ebff;}#sk-container-id-7 div.sk-parallel-item::after {content: \"\";width: 100%;border-bottom: 1px solid gray;flex-grow: 1;}#sk-container-id-7 div.sk-label:hover label.sk-toggleable__label {background-color: #d4ebff;}#sk-container-id-7 div.sk-serial::before {content: \"\";position: absolute;border-left: 1px solid gray;box-sizing: border-box;top: 0;bottom: 0;left: 50%;z-index: 0;}#sk-container-id-7 div.sk-serial {display: flex;flex-direction: column;align-items: center;background-color: white;padding-right: 0.2em;padding-left: 0.2em;position: relative;}#sk-container-id-7 div.sk-item {position: relative;z-index: 1;}#sk-container-id-7 div.sk-parallel {display: flex;align-items: stretch;justify-content: center;background-color: white;position: relative;}#sk-container-id-7 div.sk-item::before, #sk-container-id-7 div.sk-parallel-item::before {content: \"\";position: absolute;border-left: 1px solid gray;box-sizing: border-box;top: 0;bottom: 0;left: 50%;z-index: -1;}#sk-container-id-7 div.sk-parallel-item {display: flex;flex-direction: column;z-index: 1;position: relative;background-color: white;}#sk-container-id-7 div.sk-parallel-item:first-child::after {align-self: flex-end;width: 50%;}#sk-container-id-7 div.sk-parallel-item:last-child::after {align-self: flex-start;width: 50%;}#sk-container-id-7 div.sk-parallel-item:only-child::after {width: 0;}#sk-container-id-7 div.sk-dashed-wrapped {border: 1px dashed gray;margin: 0 0.4em 0.5em 0.4em;box-sizing: border-box;padding-bottom: 0.4em;background-color: white;}#sk-container-id-7 div.sk-label label {font-family: monospace;font-weight: bold;display: inline-block;line-height: 1.2em;}#sk-container-id-7 div.sk-label-container {text-align: center;}#sk-container-id-7 div.sk-container {/* jupyter's `normalize.less` sets `[hidden] { display: none; }` but bootstrap.min.css set `[hidden] { display: none !important; }` so we also need the `!important` here to be able to override the default hidden behavior on the sphinx rendered scikit-learn.org. See: https://github.com/scikit-learn/scikit-learn/issues/21755 */display: inline-block !important;position: relative;}#sk-container-id-7 div.sk-text-repr-fallback {display: none;}</style><div id=\"sk-container-id-7\" class=\"sk-top-container\"><div class=\"sk-text-repr-fallback\"><pre>LinearRegression()</pre><b>In a Jupyter environment, please rerun this cell to show the HTML representation or trust the notebook. <br />On GitHub, the HTML representation is unable to render, please try loading this page with nbviewer.org.</b></div><div class=\"sk-container\" hidden><div class=\"sk-item\"><div class=\"sk-estimator sk-toggleable\"><input class=\"sk-toggleable__control sk-hidden--visually\" id=\"sk-estimator-id-7\" type=\"checkbox\" checked><label for=\"sk-estimator-id-7\" class=\"sk-toggleable__label sk-toggleable__label-arrow\">LinearRegression</label><div class=\"sk-toggleable__content\"><pre>LinearRegression()</pre></div></div></div></div></div>"
            ]
          },
          "metadata": {},
          "execution_count": 205
        }
      ]
    },
    {
      "cell_type": "code",
      "source": [
        "model2 = DecisionTreeClassifier()\n",
        "model2.fit(X_train, y_train)"
      ],
      "metadata": {
        "colab": {
          "base_uri": "https://localhost:8080/",
          "height": 75
        },
        "id": "FdeJc1jxcK00",
        "outputId": "511d71d5-3b46-4732-b985-1a65630a945f"
      },
      "execution_count": null,
      "outputs": [
        {
          "output_type": "execute_result",
          "data": {
            "text/plain": [
              "DecisionTreeClassifier()"
            ],
            "text/html": [
              "<style>#sk-container-id-8 {color: black;background-color: white;}#sk-container-id-8 pre{padding: 0;}#sk-container-id-8 div.sk-toggleable {background-color: white;}#sk-container-id-8 label.sk-toggleable__label {cursor: pointer;display: block;width: 100%;margin-bottom: 0;padding: 0.3em;box-sizing: border-box;text-align: center;}#sk-container-id-8 label.sk-toggleable__label-arrow:before {content: \"▸\";float: left;margin-right: 0.25em;color: #696969;}#sk-container-id-8 label.sk-toggleable__label-arrow:hover:before {color: black;}#sk-container-id-8 div.sk-estimator:hover label.sk-toggleable__label-arrow:before {color: black;}#sk-container-id-8 div.sk-toggleable__content {max-height: 0;max-width: 0;overflow: hidden;text-align: left;background-color: #f0f8ff;}#sk-container-id-8 div.sk-toggleable__content pre {margin: 0.2em;color: black;border-radius: 0.25em;background-color: #f0f8ff;}#sk-container-id-8 input.sk-toggleable__control:checked~div.sk-toggleable__content {max-height: 200px;max-width: 100%;overflow: auto;}#sk-container-id-8 input.sk-toggleable__control:checked~label.sk-toggleable__label-arrow:before {content: \"▾\";}#sk-container-id-8 div.sk-estimator input.sk-toggleable__control:checked~label.sk-toggleable__label {background-color: #d4ebff;}#sk-container-id-8 div.sk-label input.sk-toggleable__control:checked~label.sk-toggleable__label {background-color: #d4ebff;}#sk-container-id-8 input.sk-hidden--visually {border: 0;clip: rect(1px 1px 1px 1px);clip: rect(1px, 1px, 1px, 1px);height: 1px;margin: -1px;overflow: hidden;padding: 0;position: absolute;width: 1px;}#sk-container-id-8 div.sk-estimator {font-family: monospace;background-color: #f0f8ff;border: 1px dotted black;border-radius: 0.25em;box-sizing: border-box;margin-bottom: 0.5em;}#sk-container-id-8 div.sk-estimator:hover {background-color: #d4ebff;}#sk-container-id-8 div.sk-parallel-item::after {content: \"\";width: 100%;border-bottom: 1px solid gray;flex-grow: 1;}#sk-container-id-8 div.sk-label:hover label.sk-toggleable__label {background-color: #d4ebff;}#sk-container-id-8 div.sk-serial::before {content: \"\";position: absolute;border-left: 1px solid gray;box-sizing: border-box;top: 0;bottom: 0;left: 50%;z-index: 0;}#sk-container-id-8 div.sk-serial {display: flex;flex-direction: column;align-items: center;background-color: white;padding-right: 0.2em;padding-left: 0.2em;position: relative;}#sk-container-id-8 div.sk-item {position: relative;z-index: 1;}#sk-container-id-8 div.sk-parallel {display: flex;align-items: stretch;justify-content: center;background-color: white;position: relative;}#sk-container-id-8 div.sk-item::before, #sk-container-id-8 div.sk-parallel-item::before {content: \"\";position: absolute;border-left: 1px solid gray;box-sizing: border-box;top: 0;bottom: 0;left: 50%;z-index: -1;}#sk-container-id-8 div.sk-parallel-item {display: flex;flex-direction: column;z-index: 1;position: relative;background-color: white;}#sk-container-id-8 div.sk-parallel-item:first-child::after {align-self: flex-end;width: 50%;}#sk-container-id-8 div.sk-parallel-item:last-child::after {align-self: flex-start;width: 50%;}#sk-container-id-8 div.sk-parallel-item:only-child::after {width: 0;}#sk-container-id-8 div.sk-dashed-wrapped {border: 1px dashed gray;margin: 0 0.4em 0.5em 0.4em;box-sizing: border-box;padding-bottom: 0.4em;background-color: white;}#sk-container-id-8 div.sk-label label {font-family: monospace;font-weight: bold;display: inline-block;line-height: 1.2em;}#sk-container-id-8 div.sk-label-container {text-align: center;}#sk-container-id-8 div.sk-container {/* jupyter's `normalize.less` sets `[hidden] { display: none; }` but bootstrap.min.css set `[hidden] { display: none !important; }` so we also need the `!important` here to be able to override the default hidden behavior on the sphinx rendered scikit-learn.org. See: https://github.com/scikit-learn/scikit-learn/issues/21755 */display: inline-block !important;position: relative;}#sk-container-id-8 div.sk-text-repr-fallback {display: none;}</style><div id=\"sk-container-id-8\" class=\"sk-top-container\"><div class=\"sk-text-repr-fallback\"><pre>DecisionTreeClassifier()</pre><b>In a Jupyter environment, please rerun this cell to show the HTML representation or trust the notebook. <br />On GitHub, the HTML representation is unable to render, please try loading this page with nbviewer.org.</b></div><div class=\"sk-container\" hidden><div class=\"sk-item\"><div class=\"sk-estimator sk-toggleable\"><input class=\"sk-toggleable__control sk-hidden--visually\" id=\"sk-estimator-id-8\" type=\"checkbox\" checked><label for=\"sk-estimator-id-8\" class=\"sk-toggleable__label sk-toggleable__label-arrow\">DecisionTreeClassifier</label><div class=\"sk-toggleable__content\"><pre>DecisionTreeClassifier()</pre></div></div></div></div></div>"
            ]
          },
          "metadata": {},
          "execution_count": 206
        }
      ]
    },
    {
      "cell_type": "markdown",
      "source": [
        "Resultados:"
      ],
      "metadata": {
        "id": "lNie2mRnn089"
      }
    },
    {
      "cell_type": "code",
      "source": [
        "prev1 = np.array([9.0,8.0,10.0]).reshape(1,-1)\n",
        "model1.predict(prev1)\n",
        "\n",
        "# Modelo 1 de Regressão Linear"
      ],
      "metadata": {
        "colab": {
          "base_uri": "https://localhost:8080/"
        },
        "id": "g016ey5YYo1a",
        "outputId": "ad2c41cb-991a-475b-cf12-d2566010da6d"
      },
      "execution_count": null,
      "outputs": [
        {
          "output_type": "execute_result",
          "data": {
            "text/plain": [
              "array([7.41060537])"
            ]
          },
          "metadata": {},
          "execution_count": 207
        }
      ]
    },
    {
      "cell_type": "code",
      "source": [
        "# Fazendo previsões\n",
        "y_pred = model1.predict(X_test)\n",
        "print(y_pred)"
      ],
      "metadata": {
        "colab": {
          "base_uri": "https://localhost:8080/"
        },
        "id": "f6fI-A33cNLm",
        "outputId": "5055964d-bfac-40e7-daf1-2119994e0f37"
      },
      "execution_count": null,
      "outputs": [
        {
          "output_type": "stream",
          "name": "stdout",
          "text": [
            "[ 3.32708022  5.22692495  7.54229369  5.22692495  5.94748623  6.6900441\n",
            "  7.62922005  7.95678392  5.20466336  6.71204069  2.99951635  6.79923205\n",
            "  6.66831251  6.66831251  8.72107338  1.79823631  6.49366478  4.11283627\n",
            "  7.86932755  4.50609868  5.86029486  5.99121441  4.57182345  8.63388201\n",
            "  1.95088744  4.02617491  5.22692495  5.44530087  5.22665995  7.4985655\n",
            "  7.41060537  5.90375805  8.72107338  7.32341401  8.04397528  5.88202646\n",
            "  5.22692495  7.27968582  5.99121441  6.55912455  4.59355504  7.45433355\n",
            "  3.80753399  8.02224369  7.12703469  6.03494259  7.03984332  7.95678392\n",
            "  7.89185415  8.72107338  6.62458432  8.72107338  6.03494259  7.23622264\n",
            "  1.73277653  7.32341401  7.45433355  5.40210269  8.39377451  5.86029486\n",
            "  4.63728323  6.64658091  7.97851551  3.76380581  1.84143449  3.32681522\n",
            "  6.6900441   2.01661222  7.97851551  5.53249223  5.75110691  6.012946\n",
            "  7.1053031   4.44090391  6.60285273  5.99121441  7.41087037  8.72107338\n",
            "  8.06597187  5.48902905  5.27091814  7.32341401  5.03054563  5.18346177\n",
            "  2.36614644  4.74620618  8.02224369  7.23648764  6.44967159  7.25795423\n",
            "  7.95678392  8.04424028  7.27995083  5.18346177  8.08770346  8.02224369\n",
            "  7.36714219  7.27968582  8.67761019  8.63388201  5.3581095   8.67761019\n",
            "  6.49366478  8.72107338  7.71667641  6.62458432  5.16120018  4.61528663\n",
            "  7.45433355  6.60232273  6.6900441   5.29238473  6.55965455  6.60285273\n",
            "  5.86029486  6.73377228  8.08770346  2.21325654  7.25795423  4.72473959\n",
            "  7.89105914  5.92575464  7.45433355  5.31411632  8.69934178  7.45433355\n",
            "  5.3578445   5.13999859  8.67761019  7.3451456   2.60625395  7.93478733\n",
            "  8.08770346  7.27968582  5.118267    5.13946859  7.80439778  8.72107338\n",
            "  1.99488063  3.82926559  5.118267    1.99461563  6.62458432  7.19222946\n",
            "  4.72473959  7.43260196  4.30998436  1.73277653  8.72107338  5.18346177\n",
            "  6.60285273  5.22692495  6.36274523  7.25795423  8.72107338  6.62458432\n",
            "  5.3578445   6.49392978  7.86959255  3.96018513  7.91305573  7.3454106\n",
            "  1.73277653  6.55938955  5.22692495  8.56842224  8.72107338  4.52862527\n",
            "  2.49706599  5.29238473  3.72034263  8.72107338  8.72107338  8.63361701\n",
            "  6.05667419  4.39744072  8.0002471   7.23622264  8.72107338  6.66831251\n",
            "  8.72107338  6.64631591  3.45799977  8.06597187  5.27038814  5.94748623\n",
            "  5.31438132  1.73277653  8.02224369  5.22692495  6.79923205  7.32341401\n",
            "  6.97358855  5.81656668  6.66831251  6.6900441   7.38887378  4.22228923\n",
            "  5.24892155  5.16199518  1.73277653  7.43260196  8.0002471   5.90402305\n",
            "  8.72107338  8.72107338  4.26625618  7.12703469  5.96948282  3.52319454\n",
            "  8.02224369  4.0476415   6.51539637  6.40620841  7.84786096  7.97851551\n",
            "  6.47166818  7.3451456   8.04424028  8.72107338  8.56815724  2.36614644\n",
            "  2.0600754   4.50636368  6.71204069  3.45799977  6.6900441   7.36714219\n",
            "  7.25795423  7.95678392  8.02224369  7.3454106   7.12676969  7.32341401\n",
            "  1.8202329   7.95678392  3.04324454  4.33171595  8.72107338  5.88229146\n",
            "  4.59355504  7.32341401  5.24865655  8.72107338  5.00881404  4.89962609\n",
            "  6.6680475   7.95678392  6.6900441   6.6680475   7.32341401  7.32341401\n",
            "  5.88202646  8.72107338  8.6556136   3.82926559  2.25645472  7.36714219\n",
            "  7.32341401  7.27968582  7.95678392  8.50243246  6.03494259  7.32367901\n",
            "  2.80342827  6.58112114  7.36714219  7.78240119  8.56815724  2.64998213\n",
            "  7.45433355  2.69344531  6.75550387  6.71204069  5.3578445   5.22692495\n",
            "  4.65901482  6.10040237  6.66831251  6.77750046  8.63361701  3.45773477\n",
            "  7.45433355  7.84786096  8.72107338 12.39556572  6.75576887  6.47219819\n",
            "  7.14903128  4.76820277  6.40647341  7.32314901  4.0476415   7.36687719\n",
            "  5.37957609  8.72107338  7.32341401  5.29211973  7.30168242  4.63754823\n",
            "  6.55912455  7.25821923  7.30168242  1.77623971  3.63288627  8.63388201\n",
            "  5.31438132  7.36740719  8.72107338  8.72107338  7.25795423  6.79923205\n",
            "  5.86029486  7.27968582  2.36614644  4.52809527  7.97851551  4.63701823\n",
            "  7.3451456   8.63361701  8.52469405  1.73277653  4.68101141  7.27968582\n",
            "  7.91305573  4.63701823  5.20519336  7.38887378  6.64631591  8.72107338]\n"
          ]
        }
      ]
    },
    {
      "cell_type": "code",
      "source": [
        "prev2 = np.array([9.0,8.0,10.0]).reshape(1,-1)\n",
        "model2.predict(prev2)\n",
        "\n",
        "# Modelo 1 de Árvore de Decisão"
      ],
      "metadata": {
        "id": "7D6oHTnG6vnX",
        "outputId": "66e057d2-7f36-4eb8-a74a-fc3fe14ec084",
        "colab": {
          "base_uri": "https://localhost:8080/"
        }
      },
      "execution_count": null,
      "outputs": [
        {
          "output_type": "execute_result",
          "data": {
            "text/plain": [
              "array([8])"
            ]
          },
          "metadata": {},
          "execution_count": 209
        }
      ]
    },
    {
      "cell_type": "code",
      "source": [
        "# Fazendo previsões\n",
        "y_pred2 = model2.predict(X_test)\n",
        "\n",
        "print(y_pred2)"
      ],
      "metadata": {
        "id": "wdJVWz7C6ygV",
        "outputId": "3d9d4ab7-6d60-489e-9a15-1701b6f53a08",
        "colab": {
          "base_uri": "https://localhost:8080/"
        }
      },
      "execution_count": null,
      "outputs": [
        {
          "output_type": "stream",
          "name": "stdout",
          "text": [
            "[ 4  5  6  5  6  8  7  9  3  8  0  8  7  7 10  0  7  6  7  5  5  7  3  7\n",
            "  4  5  5  5  5  6  8  5 10  8  8  5  5  8  7  6  0 10  3  9  7  7  8  9\n",
            "  8 10  7 10  7  7  0  8 10  6  7  5  5  7  7  6  0  4  8  3  7  5  4  4\n",
            "  5  5  7  7  8 10  9  5  5  8  4  5  1  6  9  7  7  7  9  8  6  5  9  9\n",
            "  8  8 10  7  7 10  7 10  7  7  3  5 10  5  8  6  5  7  5  7  9  0  7  5\n",
            "  7  6 10  6 10 10  5  5 10  7  1  8  9  8  5  5  8 10  0  5  5  4  7  8\n",
            "  5  7  0  0 10  5  7  5  5  7 10  7  5  6  8  5  8  7  0  6  5  7 10  6\n",
            "  1  6  4 10 10 10  6  0  9  7 10  7 10  7  4  9  4  6  5  0  9  5  8  8\n",
            "  7  5  7  8  8  5  5  5  0  7  9  5 10 10  2  7  6  4  9  5  6  5  7  7\n",
            "  7  7  8 10  8  1  3  3  8  4  8  8  7  9  9  7  7  8  2  9  0  0 10  5\n",
            "  0  8  6 10  4  2  7  9  8  7  8  8  5 10  8  5  0  8  8  8  9  8  7  7\n",
            "  1  6  8  6  8  1 10  0  8  8  5  5  5  6  7  8 10  4 10  7 10  8  7  6\n",
            "  7  5  5  7  5  7  7 10  8  4  8  5  6  5  8  0  2  7  5  7 10 10  7  8\n",
            "  5  8  1  2  7  5  7 10  6  0  8  8  8  5  6  8  7 10]\n"
          ]
        }
      ]
    },
    {
      "cell_type": "markdown",
      "source": [
        "# **Modelo 3: Previsão da Faixa de Renda Baseado em Critérios Específicos**"
      ],
      "metadata": {
        "id": "4YiLRJpbRxOf"
      }
    },
    {
      "cell_type": "markdown",
      "source": [
        "Utiliza critérios como Quantidade de Residentes que contribuem com a Renda (H1), se o contrato inclui TV por assinatura (G2_1) e se o cliente utilizou o atendimento telefônico (A1_1), e a variável de resposta Faixa de Renda (H2a)."
      ],
      "metadata": {
        "id": "dGIyZROxoBe8"
      }
    },
    {
      "cell_type": "markdown",
      "source": [
        "Preparação dos Dados:"
      ],
      "metadata": {
        "id": "LoN3dkxOoEYG"
      }
    },
    {
      "cell_type": "code",
      "source": [
        "X2 = df[['H1', 'G2_1','A1_1']].values\n",
        "y2 = df['H2a'].values\n",
        "\n",
        "# Dividindo os dados em treino e teste\n",
        "X2_train, X2_test, y2_train, y2_test = train_test_split(X2, y2, test_size=0.3, random_state=42)"
      ],
      "metadata": {
        "id": "UyNO-7_9R0gz"
      },
      "execution_count": null,
      "outputs": []
    },
    {
      "cell_type": "markdown",
      "source": [
        "Modelo:"
      ],
      "metadata": {
        "id": "jdj2Ui4QoHGZ"
      }
    },
    {
      "cell_type": "code",
      "source": [
        "# Treinando o modelo\n",
        "model3 = DecisionTreeClassifier()\n",
        "model3.fit(X2_train, y2_train)"
      ],
      "metadata": {
        "id": "d9PFSxhnR3pd",
        "outputId": "bdcef632-aa65-4f63-db44-a8b0cea2cce2",
        "colab": {
          "base_uri": "https://localhost:8080/",
          "height": 75
        }
      },
      "execution_count": null,
      "outputs": [
        {
          "output_type": "execute_result",
          "data": {
            "text/plain": [
              "DecisionTreeClassifier()"
            ],
            "text/html": [
              "<style>#sk-container-id-9 {color: black;background-color: white;}#sk-container-id-9 pre{padding: 0;}#sk-container-id-9 div.sk-toggleable {background-color: white;}#sk-container-id-9 label.sk-toggleable__label {cursor: pointer;display: block;width: 100%;margin-bottom: 0;padding: 0.3em;box-sizing: border-box;text-align: center;}#sk-container-id-9 label.sk-toggleable__label-arrow:before {content: \"▸\";float: left;margin-right: 0.25em;color: #696969;}#sk-container-id-9 label.sk-toggleable__label-arrow:hover:before {color: black;}#sk-container-id-9 div.sk-estimator:hover label.sk-toggleable__label-arrow:before {color: black;}#sk-container-id-9 div.sk-toggleable__content {max-height: 0;max-width: 0;overflow: hidden;text-align: left;background-color: #f0f8ff;}#sk-container-id-9 div.sk-toggleable__content pre {margin: 0.2em;color: black;border-radius: 0.25em;background-color: #f0f8ff;}#sk-container-id-9 input.sk-toggleable__control:checked~div.sk-toggleable__content {max-height: 200px;max-width: 100%;overflow: auto;}#sk-container-id-9 input.sk-toggleable__control:checked~label.sk-toggleable__label-arrow:before {content: \"▾\";}#sk-container-id-9 div.sk-estimator input.sk-toggleable__control:checked~label.sk-toggleable__label {background-color: #d4ebff;}#sk-container-id-9 div.sk-label input.sk-toggleable__control:checked~label.sk-toggleable__label {background-color: #d4ebff;}#sk-container-id-9 input.sk-hidden--visually {border: 0;clip: rect(1px 1px 1px 1px);clip: rect(1px, 1px, 1px, 1px);height: 1px;margin: -1px;overflow: hidden;padding: 0;position: absolute;width: 1px;}#sk-container-id-9 div.sk-estimator {font-family: monospace;background-color: #f0f8ff;border: 1px dotted black;border-radius: 0.25em;box-sizing: border-box;margin-bottom: 0.5em;}#sk-container-id-9 div.sk-estimator:hover {background-color: #d4ebff;}#sk-container-id-9 div.sk-parallel-item::after {content: \"\";width: 100%;border-bottom: 1px solid gray;flex-grow: 1;}#sk-container-id-9 div.sk-label:hover label.sk-toggleable__label {background-color: #d4ebff;}#sk-container-id-9 div.sk-serial::before {content: \"\";position: absolute;border-left: 1px solid gray;box-sizing: border-box;top: 0;bottom: 0;left: 50%;z-index: 0;}#sk-container-id-9 div.sk-serial {display: flex;flex-direction: column;align-items: center;background-color: white;padding-right: 0.2em;padding-left: 0.2em;position: relative;}#sk-container-id-9 div.sk-item {position: relative;z-index: 1;}#sk-container-id-9 div.sk-parallel {display: flex;align-items: stretch;justify-content: center;background-color: white;position: relative;}#sk-container-id-9 div.sk-item::before, #sk-container-id-9 div.sk-parallel-item::before {content: \"\";position: absolute;border-left: 1px solid gray;box-sizing: border-box;top: 0;bottom: 0;left: 50%;z-index: -1;}#sk-container-id-9 div.sk-parallel-item {display: flex;flex-direction: column;z-index: 1;position: relative;background-color: white;}#sk-container-id-9 div.sk-parallel-item:first-child::after {align-self: flex-end;width: 50%;}#sk-container-id-9 div.sk-parallel-item:last-child::after {align-self: flex-start;width: 50%;}#sk-container-id-9 div.sk-parallel-item:only-child::after {width: 0;}#sk-container-id-9 div.sk-dashed-wrapped {border: 1px dashed gray;margin: 0 0.4em 0.5em 0.4em;box-sizing: border-box;padding-bottom: 0.4em;background-color: white;}#sk-container-id-9 div.sk-label label {font-family: monospace;font-weight: bold;display: inline-block;line-height: 1.2em;}#sk-container-id-9 div.sk-label-container {text-align: center;}#sk-container-id-9 div.sk-container {/* jupyter's `normalize.less` sets `[hidden] { display: none; }` but bootstrap.min.css set `[hidden] { display: none !important; }` so we also need the `!important` here to be able to override the default hidden behavior on the sphinx rendered scikit-learn.org. See: https://github.com/scikit-learn/scikit-learn/issues/21755 */display: inline-block !important;position: relative;}#sk-container-id-9 div.sk-text-repr-fallback {display: none;}</style><div id=\"sk-container-id-9\" class=\"sk-top-container\"><div class=\"sk-text-repr-fallback\"><pre>DecisionTreeClassifier()</pre><b>In a Jupyter environment, please rerun this cell to show the HTML representation or trust the notebook. <br />On GitHub, the HTML representation is unable to render, please try loading this page with nbviewer.org.</b></div><div class=\"sk-container\" hidden><div class=\"sk-item\"><div class=\"sk-estimator sk-toggleable\"><input class=\"sk-toggleable__control sk-hidden--visually\" id=\"sk-estimator-id-9\" type=\"checkbox\" checked><label for=\"sk-estimator-id-9\" class=\"sk-toggleable__label sk-toggleable__label-arrow\">DecisionTreeClassifier</label><div class=\"sk-toggleable__content\"><pre>DecisionTreeClassifier()</pre></div></div></div></div></div>"
            ]
          },
          "metadata": {},
          "execution_count": 213
        }
      ]
    },
    {
      "cell_type": "code",
      "source": [
        "y_prev3 = model3.predict(X2_test)\n",
        "\n",
        "print(y_prev3)"
      ],
      "metadata": {
        "id": "Qvcserl-R6bh",
        "outputId": "e6e3d98a-c3f7-42a4-80b8-df4f2c317c5a",
        "colab": {
          "base_uri": "https://localhost:8080/"
        }
      },
      "execution_count": null,
      "outputs": [
        {
          "output_type": "stream",
          "name": "stdout",
          "text": [
            "[ 2  2  2 99  2  1  2  4  2  2  2  1  1  2  2  2  1  2  1  2  2  2  2  4\n",
            "  1  1  1  2  1 99  3  1  1  2  2  2  2  2  1  2  1 99  1  2  2  2  2  1\n",
            "  2  2  1  1  2  4  2  2  2  1  2  2  1  3  2  2  2  1  2  1  1  1  1  2\n",
            "  1  2  1  2  2  4  2  2  2  2  4  2  1  2  1  4  2  2  2  1  1  1  2  1\n",
            "  2  4  1  2  4  1  1  2  2  4  1  4  1  4  2  1  2 99  2  2  1  2  2  2\n",
            "  4  4  1  1  2  4  2  2  2  2  4  2  4  1  1  2  1  2  4  2  4  4  1  4\n",
            "  1  2  1  1  2  4  3  2  2  2  2  2  2  2  1  1  1  2  1  2  4  4  4  1\n",
            "  2  2  2  4  1 99  2  2  4  1  2  2  2  2  2 99  2  2  2  2  2  3  2  2\n",
            "  1  2  1  2  2  1  2  4  1  1  1  2  1  4  2  4  3  2  1  2  2 99  2  1\n",
            "  4  1  4  2  4  2  2  4  2  2  4  2  1  2  1  4  1  2  2  2  4  1  2  2\n",
            "  1  1  2  1  2  4  4  1  1  2  4  2  2  2  4 99  1  4  2  4  1  2  2  4\n",
            "  1  2  1  1  4  2  4  2 99  4  4  1  4  2  2  2  2  2  1  2  2  2  2  2\n",
            "  2  1  4  2  2  2  2  2  2  1  1  1  2  3  4  2  2  2  2  2  2  4  2  2\n",
            "  2  2  2  3 99  1  2  4  2  2  2  4  2 99  2  2  4  2]\n"
          ]
        }
      ]
    },
    {
      "cell_type": "markdown",
      "source": [
        "# **Conclusão**"
      ],
      "metadata": {
        "id": "4X6rfKpRkOmq"
      }
    },
    {
      "cell_type": "markdown",
      "source": [
        "Apresente a conclusão do seu estudo comparando ainda os resultados obtidos com o referencial teórico apresentado."
      ],
      "metadata": {
        "id": "TzeBTCZBkRWL"
      }
    },
    {
      "cell_type": "markdown",
      "source": [
        "# **Referências**"
      ],
      "metadata": {
        "id": "ea53I6bskUVM"
      }
    },
    {
      "cell_type": "markdown",
      "source": [
        "Indique as referências empregadas, incluindo as fontes de dados."
      ],
      "metadata": {
        "id": "3jB5d2INkZx_"
      }
    },
    {
      "cell_type": "markdown",
      "source": [
        "---"
      ],
      "metadata": {
        "id": "mV5k7p2gkt2e"
      }
    },
    {
      "cell_type": "code",
      "source": [
        "#@title Avaliação\n",
        "Completo = 0 #@param {type:\"slider\", min:0, max:10, step:1}\n",
        "#@markdown Projeto cumpre todos os itens pedidos.\n",
        "Relevancia = 0 #@param {type:\"slider\", min:0, max:10, step:1}\n",
        "#@markdown As seleções de dados e eventos para análise são relevantes e justificados.\n",
        "Tecnicas = 4 #@param {type:\"slider\", min:0, max:10, step:1}\n",
        "#@markdown As técnicas de empregadas são adequadas e corretamente aplicadas.\n",
        "Apresentacao = 4 #@param {type:\"slider\", min:0, max:10, step:1}\n",
        "#@markdown A apresentação dos resultados é clara e objetiva.\n",
        "Analise = 4 #@param {type:\"slider\", min:0, max:10, step:1}\n",
        "#@markdown As premissas de análise se justificam e a analise é correta.\n",
        "Conclusao = 4 #@param {type:\"slider\", min:0, max:10, step:1}\n",
        "#@markdown As conclusões são justificadas e relevantes\n",
        "Bonus = 0.5 #@param {type:\"slider\", min:0, max:1, step:0.5}\n",
        "#@markdown A critério do professor por inovações na abordagem e no uso de técnicas de Análise de Dados"
      ],
      "metadata": {
        "cellView": "form",
        "id": "mgXoiIBck4lu"
      },
      "execution_count": null,
      "outputs": []
    },
    {
      "cell_type": "code",
      "source": [
        "#@markdown ### Nota Final\n",
        "nota = Completo + Relevancia + Tecnicas + Apresentacao + Analise + Conclusao\n",
        "\n",
        "nota = nota / 6 + Bonus\n",
        "\n",
        "print(f'Nota final do trabalho {nota :.1f}')\n",
        "\n",
        "import numpy as np\n",
        "import pandas as pd\n",
        "\n",
        "alunos = pd.DataFrame()\n",
        "\n",
        "lista_tia = []\n",
        "lista_nome = []\n",
        "\n",
        "for i in range(1,6):\n",
        "  exec(\"if Aluno\" + str(i) + \" !='None':  lista = Aluno\" + str(i) + \".split(','); lista_tia.append(lista[0]); lista_nome.append(lista[1].upper())\")\n",
        "\n",
        "alunos['tia'] = lista_tia\n",
        "alunos['nome'] = lista_nome\n",
        "alunos['nota'] = np.round(nota,1)\n",
        "print()\n",
        "alunos"
      ],
      "metadata": {
        "id": "1t-1Fs1RlEN0"
      },
      "execution_count": null,
      "outputs": []
    }
  ]
}